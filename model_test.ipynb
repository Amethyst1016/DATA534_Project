{
 "cells": [
  {
   "cell_type": "code",
   "execution_count": 57,
   "metadata": {},
   "outputs": [],
   "source": [
    "import math\n",
    "import pylab\n",
    "import random\n",
    "import requests\n",
    "import numpy as np\n",
    "import pandas as pd\n",
    "import seaborn as sns\n",
    "import scipy.stats as stats\n",
    "from sklearn.svm import SVR\n",
    "import statsmodels.api as sm\n",
    "import matplotlib.pyplot as plt\n",
    "from sklearn.neural_network import MLPRegressor\n",
    "from sklearn.neighbors import KNeighborsRegressor\n",
    "from sklearn.linear_model import LinearRegression\n",
    "from sklearn.model_selection import TimeSeriesSplit\n",
    "from sklearn.model_selection import train_test_split\n",
    "from sklearn.ensemble import GradientBoostingRegressor\n",
    "from sklearn.metrics import mean_squared_error, r2_score\n",
    "from sklearn.tree import DecisionTreeClassifier, DecisionTreeRegressor\n",
    "from sklearn.ensemble import RandomForestClassifier, RandomForestRegressor\n",
    "\n",
    "from pmdarima import auto_arima\n",
    "from statsmodels.tsa.arima.model import ARIMA\n"
   ]
  },
  {
   "cell_type": "code",
   "execution_count": 58,
   "metadata": {},
   "outputs": [],
   "source": [
    "def get_folds(n, K):\n",
    "      ### Get the appropriate number of fold labels\n",
    "      n_fold = math.ceil(n / K) # Number of observations per fold (rounded up)\n",
    "      fold_ids_raw = list(range(1, K+1)) * n_fold\n",
    "      fold_ids = fold_ids_raw[:n]\n",
    "      random.shuffle(fold_ids)\n",
    "      return fold_ids"
   ]
  },
  {
   "cell_type": "code",
   "execution_count": 59,
   "metadata": {},
   "outputs": [],
   "source": [
    "def rescale(x1, x2):\n",
    "      for col in range(x1.shape[1]):\n",
    "            a = np.min(x2[:, col])\n",
    "            b = np.max(x2[:, col])\n",
    "            x1[:, col] = (x1[:, col] - a) / (b - a)\n",
    "      return x1"
   ]
  },
  {
   "cell_type": "code",
   "execution_count": 60,
   "metadata": {},
   "outputs": [],
   "source": [
    "# Get data from csv file\n",
    "cpi = pd.read_csv('data/cpi.csv') # per month from 1913-01-01 to 2022-12-01, total 1320 observations\n",
    "unemployment = pd.read_csv('data/unemployment.csv') # per month from 1948-01-01 to 2022-12-01, total 900 observations\n",
    "gdp = pd.read_csv('data/gdp.csv') # per quarter from 1947-01-01 to 2022-07-01, total 303 observations\n",
    "fund_rate = pd.read_csv('data/fundrate.csv') # per month from 1954-07-01 to 2022-12-01, total 822 observations\n",
    "retail = pd.read_csv('data/retail.csv') # per month from 1992-01-01 to 2022-12-01, total 372 observations\n",
    "durables = pd.read_csv('data/durables.csv') # per month from 1992-02-01 to 2022-11-01, total 370 observations\n",
    "SP500 = pd.read_csv('data/SP500.csv') # per day from 2016-01-04 to 2023-01-13, total 1771 observations\n"
   ]
  },
  {
   "attachments": {},
   "cell_type": "markdown",
   "metadata": {},
   "source": [
    "## get data"
   ]
  },
  {
   "attachments": {},
   "cell_type": "markdown",
   "metadata": {},
   "source": [
    "### SP500 index"
   ]
  },
  {
   "cell_type": "code",
   "execution_count": 61,
   "metadata": {},
   "outputs": [
    {
     "name": "stderr",
     "output_type": "stream",
     "text": [
      "/var/folders/xb/ck19r6wj3s34sw5xpnr7_fbm0000gp/T/ipykernel_17613/269444350.py:5: FutureWarning: The default value of numeric_only in DataFrameGroupBy.mean is deprecated. In a future version, numeric_only will default to False. Either specify numeric_only or select only columns which should be valid for the function.\n",
      "  SP500 = SP500.groupby('date').mean()\n"
     ]
    }
   ],
   "source": [
    "# SP500\n",
    "# Convert the 'Date' column to the 'Y-M' format\n",
    "SP500['date'] = pd.to_datetime(SP500['Date']).dt.to_period('M')\n",
    "# Calculate the average value for each month for column 'Close'\n",
    "SP500 = SP500.groupby('date').mean()\n",
    "# Subset the DataFrame with dates between 2016-01 and 2022-12\n",
    "SP500 = SP500['2016-01':'2022-12']\n",
    "# Only keep the column 'Close'\n",
    "SP500 = SP500[['Close']]\n",
    "# Rename the column 'Close' to 'SP500'\n",
    "SP500.rename(columns={'Close': 'SP500'}, inplace=True)\n",
    "# per month from 2016-01 to 2022-12, total 84 observations\n"
   ]
  },
  {
   "cell_type": "code",
   "execution_count": 62,
   "metadata": {},
   "outputs": [
    {
     "data": {
      "text/html": [
       "<div>\n",
       "<style scoped>\n",
       "    .dataframe tbody tr th:only-of-type {\n",
       "        vertical-align: middle;\n",
       "    }\n",
       "\n",
       "    .dataframe tbody tr th {\n",
       "        vertical-align: top;\n",
       "    }\n",
       "\n",
       "    .dataframe thead th {\n",
       "        text-align: right;\n",
       "    }\n",
       "</style>\n",
       "<table border=\"1\" class=\"dataframe\">\n",
       "  <thead>\n",
       "    <tr style=\"text-align: right;\">\n",
       "      <th></th>\n",
       "      <th>SP500</th>\n",
       "    </tr>\n",
       "    <tr>\n",
       "      <th>date</th>\n",
       "      <th></th>\n",
       "    </tr>\n",
       "  </thead>\n",
       "  <tbody>\n",
       "    <tr>\n",
       "      <th>2016-01</th>\n",
       "      <td>NaN</td>\n",
       "    </tr>\n",
       "    <tr>\n",
       "      <th>2016-02</th>\n",
       "      <td>NaN</td>\n",
       "    </tr>\n",
       "    <tr>\n",
       "      <th>2016-03</th>\n",
       "      <td>NaN</td>\n",
       "    </tr>\n",
       "    <tr>\n",
       "      <th>2016-04</th>\n",
       "      <td>NaN</td>\n",
       "    </tr>\n",
       "    <tr>\n",
       "      <th>2016-05</th>\n",
       "      <td>NaN</td>\n",
       "    </tr>\n",
       "    <tr>\n",
       "      <th>...</th>\n",
       "      <td>...</td>\n",
       "    </tr>\n",
       "    <tr>\n",
       "      <th>2022-08</th>\n",
       "      <td>4175.448717</td>\n",
       "    </tr>\n",
       "    <tr>\n",
       "      <th>2022-09</th>\n",
       "      <td>4091.811574</td>\n",
       "    </tr>\n",
       "    <tr>\n",
       "      <th>2022-10</th>\n",
       "      <td>3996.780959</td>\n",
       "    </tr>\n",
       "    <tr>\n",
       "      <th>2022-11</th>\n",
       "      <td>3929.094187</td>\n",
       "    </tr>\n",
       "    <tr>\n",
       "      <th>2022-12</th>\n",
       "      <td>3910.811466</td>\n",
       "    </tr>\n",
       "  </tbody>\n",
       "</table>\n",
       "<p>84 rows × 1 columns</p>\n",
       "</div>"
      ],
      "text/plain": [
       "               SP500\n",
       "date                \n",
       "2016-01          NaN\n",
       "2016-02          NaN\n",
       "2016-03          NaN\n",
       "2016-04          NaN\n",
       "2016-05          NaN\n",
       "...              ...\n",
       "2022-08  4175.448717\n",
       "2022-09  4091.811574\n",
       "2022-10  3996.780959\n",
       "2022-11  3929.094187\n",
       "2022-12  3910.811466\n",
       "\n",
       "[84 rows x 1 columns]"
      ]
     },
     "execution_count": 62,
     "metadata": {},
     "output_type": "execute_result"
    }
   ],
   "source": [
    "SP500_MA7 = SP500.rolling(window=7).mean()\n",
    "SP500_MA15 = SP500.rolling(window=7).mean()\n",
    "SP500_MA7"
   ]
  },
  {
   "attachments": {},
   "cell_type": "markdown",
   "metadata": {},
   "source": [
    "### CPI"
   ]
  },
  {
   "cell_type": "code",
   "execution_count": 63,
   "metadata": {},
   "outputs": [],
   "source": [
    "# CPI\n",
    "# Drop the first column 'Unnamed: 0'\n",
    "cpi = cpi.drop(columns=['Unnamed: 0'])\n",
    "# Convert the 'date' column to the 'Y-M' format\n",
    "cpi['date'] = pd.to_datetime(cpi['date']).dt.to_period('M')\n",
    "# Subset the DataFrame with dates between 2016-01 and 2022-12\n",
    "cpi.set_index('date', inplace=True)\n",
    "cpi = cpi['2022-12':'2016-01']\n",
    "cpi = cpi.sort_index(ascending=True)\n",
    "# Rename the column 'value' to 'CPI'\n",
    "cpi.rename(columns={'value': 'CPI'}, inplace=True)\n",
    "# per month from 2016-01 to 2022-12, total 84 observations"
   ]
  },
  {
   "attachments": {},
   "cell_type": "markdown",
   "metadata": {},
   "source": [
    "### unemployment"
   ]
  },
  {
   "cell_type": "code",
   "execution_count": 64,
   "metadata": {},
   "outputs": [],
   "source": [
    "# unemployment\n",
    "# Drop the first column 'Unnamed: 0'\n",
    "unemployment = unemployment.drop(columns=['Unnamed: 0'])\n",
    "# Convert the 'date' column to the 'Y-M' format\n",
    "unemployment['date'] = pd.to_datetime(unemployment['date']).dt.to_period('M')\n",
    "# Subset the DataFrame with dates between 2016-01 and 2022-12\n",
    "unemployment.set_index('date', inplace=True)\n",
    "unemployment = unemployment['2022-12':'2016-01']\n",
    "unemployment = unemployment.sort_index(ascending=True)\n",
    "# Rename the column 'value' to 'Unemployment'\n",
    "unemployment.rename(columns={'value': 'Unemployment'}, inplace=True)\n",
    "# per month from 2016-01 to 2022-12, total 84 observations"
   ]
  },
  {
   "attachments": {},
   "cell_type": "markdown",
   "metadata": {},
   "source": [
    "### gdp"
   ]
  },
  {
   "cell_type": "code",
   "execution_count": 65,
   "metadata": {},
   "outputs": [],
   "source": [
    "# gdp\n",
    "# Drop the first column 'Unnamed: 0'\n",
    "gdp = gdp.drop(columns=['Unnamed: 0'])\n",
    "# Convert the 'date' column to the 'Y-M' format\n",
    "gdp['date'] = pd.to_datetime(gdp['date']).dt.to_period('M')\n",
    "# Subset the DataFrame with dates between 2016-01 and 2022-07\n",
    "gdp.set_index('date', inplace=True)\n",
    "gdp = gdp['2022-07':'2016-01']\n",
    "gdp = gdp.sort_index(ascending=True)\n",
    "# Rename the column 'value' to 'GDP'\n",
    "gdp.rename(columns={'value': 'GDP'}, inplace=True)\n",
    "# per quarter from 2016-01 to 2022-07, total 27 observations"
   ]
  },
  {
   "attachments": {},
   "cell_type": "markdown",
   "metadata": {},
   "source": [
    "### fund_rate"
   ]
  },
  {
   "cell_type": "code",
   "execution_count": 66,
   "metadata": {},
   "outputs": [],
   "source": [
    "# fund_rate\n",
    "# Drop the first column 'Unnamed: 0'\n",
    "fund_rate = fund_rate.drop(columns=['Unnamed: 0'])\n",
    "# Convert the 'date' column to the 'Y-M' format\n",
    "fund_rate['date'] = pd.to_datetime(fund_rate['date']).dt.to_period('M')\n",
    "# Subset the DataFrame with dates between 2016-01 and 2022-12\n",
    "fund_rate.set_index('date', inplace=True)\n",
    "fund_rate = fund_rate['2022-12':'2016-01']\n",
    "fund_rate = fund_rate.sort_index(ascending=True)\n",
    "# Rename the column 'value' to 'Fund_rate'\n",
    "fund_rate.rename(columns={'value': 'Fund_rate'}, inplace=True)\n",
    "# per month from 2016-01 to 2022-12, total 84 observations"
   ]
  },
  {
   "attachments": {},
   "cell_type": "markdown",
   "metadata": {},
   "source": [
    "### retail"
   ]
  },
  {
   "cell_type": "code",
   "execution_count": 67,
   "metadata": {},
   "outputs": [],
   "source": [
    "# retail\n",
    "# Drop the first column 'Unnamed: 0'\n",
    "retail = retail.drop(columns=['Unnamed: 0'])\n",
    "# Convert the 'date' column to the 'Y-M' format\n",
    "retail['date'] = pd.to_datetime(retail['date']).dt.to_period('M')\n",
    "# Subset the DataFrame with dates between 2016-01 and 2022-12\n",
    "retail.set_index('date', inplace=True)\n",
    "retail = retail['2022-12':'2016-01']\n",
    "retail = retail.sort_index(ascending=True)\n",
    "# Rename the column 'value' to 'Retail'\n",
    "retail.rename(columns={'value': 'Retail'}, inplace=True)\n",
    "# per month from 2016-01 to 2022-12, total 84 observations"
   ]
  },
  {
   "attachments": {},
   "cell_type": "markdown",
   "metadata": {},
   "source": [
    "### durables"
   ]
  },
  {
   "cell_type": "code",
   "execution_count": 68,
   "metadata": {},
   "outputs": [],
   "source": [
    "# durables\n",
    "# Drop the first column 'Unnamed: 0'\n",
    "durables = durables.drop(columns=['Unnamed: 0'])\n",
    "# Convert the 'date' column to the 'Y-M' format\n",
    "durables['date'] = pd.to_datetime(durables['date']).dt.to_period('M')\n",
    "# Subset the DataFrame with dates between 2016-01 and 2022-07\n",
    "durables.set_index('date', inplace=True)\n",
    "durables = durables['2022-07':'2016-01']\n",
    "durables = durables.sort_index(ascending=True)\n",
    "# Rename the column 'value' to 'Durables'\n",
    "durables.rename(columns={'value': 'Durables'}, inplace=True)\n",
    "# per month from 2016-01 to 2022-07, total 79 observations"
   ]
  },
  {
   "attachments": {},
   "cell_type": "markdown",
   "metadata": {},
   "source": [
    "### merge all df"
   ]
  },
  {
   "cell_type": "code",
   "execution_count": 76,
   "metadata": {},
   "outputs": [],
   "source": [
    "# Merge all dataframes (exclude GDP for now)\n",
    "df = pd.concat([SP500, cpi, unemployment, fund_rate, retail], axis=1)\n",
    "df7 = pd.concat([SP500_MA7, cpi, unemployment, fund_rate, retail], axis=1)[6:]\n",
    "df15 = pd.concat([SP500_MA15, cpi, unemployment, fund_rate, retail], axis=1)[14:]\n"
   ]
  },
  {
   "attachments": {},
   "cell_type": "markdown",
   "metadata": {},
   "source": [
    "## analysis"
   ]
  },
  {
   "cell_type": "code",
   "execution_count": null,
   "metadata": {},
   "outputs": [],
   "source": [
    "df.head()"
   ]
  },
  {
   "cell_type": "code",
   "execution_count": null,
   "metadata": {},
   "outputs": [],
   "source": [
    "########## Analysis of the data ##########\n",
    "# Correlation matrix\n",
    "df.corr()\n",
    "#%%\n",
    "\n",
    "# # Scatter plot\n",
    "# for i in range(len(df.columns)):\n",
    "#       for j in range(i+1, len(df.columns)):\n",
    "#             col1 = df.columns[i]\n",
    "#             col2 = df.columns[j]\n",
    "#             sns.scatterplot(x=col1, y=col2, data=df)\n",
    "#             plt.title(col1 + ' vs ' + col2)\n",
    "#             plt.show()"
   ]
  },
  {
   "cell_type": "code",
   "execution_count": null,
   "metadata": {},
   "outputs": [],
   "source": [
    "# pair = sns.load_dataset(df)\n",
    "# sns.pairplot(df)"
   ]
  },
  {
   "cell_type": "code",
   "execution_count": null,
   "metadata": {},
   "outputs": [],
   "source": [
    "# Time series plot\n",
    "for column in df7.columns:\n",
    "      df7[column].plot()\n",
    "      plt.title(column)\n",
    "      plt.show()"
   ]
  },
  {
   "attachments": {},
   "cell_type": "markdown",
   "metadata": {},
   "source": [
    "## model"
   ]
  },
  {
   "attachments": {},
   "cell_type": "markdown",
   "metadata": {},
   "source": [
    "### Processing"
   ]
  },
  {
   "cell_type": "code",
   "execution_count": 77,
   "metadata": {},
   "outputs": [],
   "source": [
    "########## Data preprocessing ##########\n",
    "\n",
    "#### Fit time series cross-validation models\n",
    "# X = df.drop(columns='SP500')\n",
    "# Y = df['SP500']\n",
    "# tscv = TimeSeriesSplit(n_splits=10)\n",
    "# This allows you to split the data into training and test sets by specifying the number of splits,\n",
    "# and it ensures that the splits are done in a time-sensitive manner so that the training sets are\n",
    "# always before the test sets in time.\n",
    "def data_split(df):\n",
    "      X = df.drop(columns='SP500')\n",
    "      Y = df['SP500']\n",
    "      tscv = TimeSeriesSplit(n_splits=10)\n",
    "      return X, Y, tscv\n",
    "X,Y, tscv = data_split(df)\n",
    "X7,Y7, tscv7 = data_split(df7)\n",
    "X15,Y15, tscv15 = data_split(df15)\n"
   ]
  },
  {
   "cell_type": "code",
   "execution_count": 90,
   "metadata": {},
   "outputs": [
    {
     "name": "stdout",
     "output_type": "stream",
     "text": [
      "                            MSE\n",
      "Linear Regression  65351.137571\n",
      "Decision Tree      10752.140005\n",
      "Random Forest      21677.131973\n",
      "Gradient Boosting  15306.959323\n",
      "KNN                91071.604468\n",
      "--------------------------------------\n",
      "                            MSE\n",
      "Linear Regression    773.353312\n",
      "Decision Tree      19019.147052\n",
      "Random Forest      27639.899785\n",
      "Gradient Boosting  25257.851560\n",
      "KNN                63643.916758\n",
      "--------------------------------------\n"
     ]
    }
   ],
   "source": [
    "def model_train(X, Y, tscv):\n",
    "      for train_index, test_index in tscv.split(X):\n",
    "            X_train, X_test = X.iloc[train_index], X.iloc[test_index]\n",
    "            Y_train, Y_test = Y.iloc[train_index], Y.iloc[test_index]\n",
    "\n",
    "            # Linear regression\n",
    "            lm = sm.OLS(Y_train, X_train).fit()\n",
    "            lm_mse = mean_squared_error(Y_test, lm.predict(X_test))\n",
    "            # print('Linear regression MSE: ', lm_mse)\n",
    "\n",
    "            # Decision tree\n",
    "            Tree = DecisionTreeRegressor().fit(X_train, Y_train)\n",
    "            Tree_mse = mean_squared_error(Y_test, Tree.predict(X_test))\n",
    "            # print('Decision tree MSE: ', Tree_mse)\n",
    "\n",
    "            # Random forest\n",
    "            RF = RandomForestRegressor().fit(X_train, Y_train)\n",
    "            RF_mse = mean_squared_error(Y_test, RF.predict(X_test))\n",
    "            # print('Random forest MSE: ', RF_mse)\n",
    "\n",
    "            # Gradient boosting\n",
    "            GB = GradientBoostingRegressor().fit(X_train, Y_train)\n",
    "            GB_mse = mean_squared_error(Y_test, GB.predict(X_test))\n",
    "            # print('Gradient boosting MSE: ', GB_mse)\n",
    "\n",
    "            # KNN\n",
    "            KNN = KNeighborsRegressor().fit(X_train, Y_train)\n",
    "            KNN_mse = mean_squared_error(Y_test, KNN.predict(X_test))\n",
    "            # print('KNN MSE: ', KNN_mse)\n",
    "            MSE = pd.DataFrame({'MSE': [lm_mse, Tree_mse, RF_mse, GB_mse, KNN_mse]},\n",
    "                        index=['Linear Regression', 'Decision Tree', 'Random Forest',\n",
    "                              'Gradient Boosting', 'KNN'])\n",
    "            print(MSE)\n",
    "            print('--------------------------------------')\n",
    "            return X_train, X_test, Y_train, Y_test, lm, Tree, RF, GB, KNN\n",
    "      \n",
    "X_train, X_test, Y_train, Y_test, lm, Tree, RF, GB, KNN = model_train(X, Y, tscv)\n",
    "X_train7, X_test7, Y_train7, Y_test7, lm7, Tree7, RF7, GB7, KNN7 = model_train(X7, Y7, tscv7)\n"
   ]
  },
  {
   "cell_type": "code",
   "execution_count": 95,
   "metadata": {},
   "outputs": [
    {
     "data": {
      "text/plain": [
       "date\n",
       "2022-08    4158.563084\n",
       "2022-09    3850.520496\n",
       "2022-10    3726.050956\n",
       "2022-11    3917.488595\n",
       "2022-12    3912.380952\n",
       "Freq: M, Name: SP500, dtype: float64"
      ]
     },
     "execution_count": 95,
     "metadata": {},
     "output_type": "execute_result"
    }
   ],
   "source": [
    "Y.tail()"
   ]
  },
  {
   "cell_type": "code",
   "execution_count": 94,
   "metadata": {},
   "outputs": [
    {
     "data": {
      "text/plain": [
       "date\n",
       "2022-08    4175.448717\n",
       "2022-09    4091.811574\n",
       "2022-10    3996.780959\n",
       "2022-11    3929.094187\n",
       "2022-12    3910.811466\n",
       "Freq: M, Name: SP500, dtype: float64"
      ]
     },
     "execution_count": 94,
     "metadata": {},
     "output_type": "execute_result"
    }
   ],
   "source": [
    "Y7.tail()"
   ]
  },
  {
   "cell_type": "code",
   "execution_count": null,
   "metadata": {},
   "outputs": [],
   "source": [
    "#### Make a table of MSE\n",
    "# MSE = pd.DataFrame({'MSE': [lm_mse, Tree_mse, RF_mse, GB_mse, KNN_mse]},\n",
    "#                         index=['Linear Regression', 'Decision Tree', 'Random Forest',\n",
    "#                               'Gradient Boosting', 'KNN'])\n",
    "# MSE"
   ]
  },
  {
   "cell_type": "code",
   "execution_count": null,
   "metadata": {},
   "outputs": [],
   "source": [
    "# #### Make a MSE plot\n",
    "# MSE.plot(kind='bar')\n",
    "# plt.title('MSE of different models')\n",
    "# plt.show()\n",
    "\n",
    "# #%%\n",
    "# ### Make a relative MSE plot\n",
    "# MSE['Relative MSE'] = MSE['MSE'] / MSE['MSE'].min()\n",
    "# MSE.plot(kind='bar', y='Relative MSE')\n",
    "# plt.title('Relative MSE of different models')\n",
    "# plt.show()"
   ]
  },
  {
   "cell_type": "code",
   "execution_count": null,
   "metadata": {},
   "outputs": [],
   "source": [
    "# fit Auto ARIMA model, order is automatically selected\n",
    "auto_arima_model = auto_arima(SP500_train, start_p=1, start_q=1,\n",
    "                            max_p=3, max_q=3, m=12,\n",
    "                            start_P=0, seasonal=True,\n",
    "                            d=1, D=1, trace=True,\n",
    "                            error_action='ignore',\n",
    "                            suppress_warnings=True,\n",
    "                            stepwise=True)\n",
    "# Print model summary\n",
    "print(auto_arima_model.summary())"
   ]
  },
  {
   "cell_type": "code",
   "execution_count": null,
   "metadata": {},
   "outputs": [],
   "source": [
    "Y_test.index"
   ]
  },
  {
   "cell_type": "code",
   "execution_count": null,
   "metadata": {},
   "outputs": [],
   "source": [
    "Y_test2 = Y_test.reset_index()\n",
    "Y_test2.head(2)"
   ]
  },
  {
   "cell_type": "code",
   "execution_count": null,
   "metadata": {},
   "outputs": [],
   "source": [
    "Y_test2['date'] = pd.to_datetime(Y_test2['date'].astype(str))\n",
    "Y_test2.head(2)"
   ]
  },
  {
   "cell_type": "code",
   "execution_count": null,
   "metadata": {},
   "outputs": [],
   "source": [
    "y_pred = lm.predict(X_test)\n",
    "y_pred.values"
   ]
  },
  {
   "cell_type": "code",
   "execution_count": 88,
   "metadata": {},
   "outputs": [
    {
     "data": {
      "text/html": [
       "<div>\n",
       "<style scoped>\n",
       "    .dataframe tbody tr th:only-of-type {\n",
       "        vertical-align: middle;\n",
       "    }\n",
       "\n",
       "    .dataframe tbody tr th {\n",
       "        vertical-align: top;\n",
       "    }\n",
       "\n",
       "    .dataframe thead th {\n",
       "        text-align: right;\n",
       "    }\n",
       "</style>\n",
       "<table border=\"1\" class=\"dataframe\">\n",
       "  <thead>\n",
       "    <tr style=\"text-align: right;\">\n",
       "      <th></th>\n",
       "      <th>date</th>\n",
       "      <th>SP500</th>\n",
       "    </tr>\n",
       "  </thead>\n",
       "  <tbody>\n",
       "    <tr>\n",
       "      <th>6</th>\n",
       "      <td>2017-09-01</td>\n",
       "      <td>2492.84104</td>\n",
       "    </tr>\n",
       "  </tbody>\n",
       "</table>\n",
       "</div>"
      ],
      "text/plain": [
       "        date       SP500\n",
       "6 2017-09-01  2492.84104"
      ]
     },
     "execution_count": 88,
     "metadata": {},
     "output_type": "execute_result"
    }
   ],
   "source": [
    "Y_test2.tail(1)"
   ]
  },
  {
   "cell_type": "code",
   "execution_count": 93,
   "metadata": {},
   "outputs": [
    {
     "data": {
      "image/png": "[encoded data removed]",
      "text/plain": [
       "<Figure size 640x480 with 1 Axes>"
      ]
     },
     "metadata": {},
     "output_type": "display_data"
    }
   ],
   "source": [
    "Y_test2 = Y_test.reset_index()\n",
    "Y_test2['date'] = pd.to_datetime(Y_test2['date'].astype(str))\n",
    "y_pred = lm.predict(X_test)\n",
    "\n",
    "Y_test2_7 = Y_test7.reset_index()\n",
    "Y_test2_7['date'] = pd.to_datetime(Y_test2_7['date'].astype(str))\n",
    "y_pred_7 = lm7.predict(X_test7)\n",
    "plt.plot(Y_test2['date'], Y_test2['SP500'], label='Actual Prices')\n",
    "plt.plot(Y_test2['date'], y_pred.values, label='Predicted Prices(Original)')\n",
    "plt.plot(Y_test2_7['date'], y_pred_7.values, label='Predicted Prices(Moving Average 7)')\n",
    "plt.xlabel('Time')\n",
    "plt.ylabel('Price')\n",
    "plt.title('SP500 linear regression fit')\n",
    "plt.legend()\n",
    "plt.show()"
   ]
  },
  {
   "cell_type": "code",
   "execution_count": 104,
   "metadata": {},
   "outputs": [
    {
     "data": {
      "text/html": [
       "<div>\n",
       "<style scoped>\n",
       "    .dataframe tbody tr th:only-of-type {\n",
       "        vertical-align: middle;\n",
       "    }\n",
       "\n",
       "    .dataframe tbody tr th {\n",
       "        vertical-align: top;\n",
       "    }\n",
       "\n",
       "    .dataframe thead th {\n",
       "        text-align: right;\n",
       "    }\n",
       "</style>\n",
       "<table border=\"1\" class=\"dataframe\">\n",
       "  <thead>\n",
       "    <tr style=\"text-align: right;\">\n",
       "      <th></th>\n",
       "      <th>CPI</th>\n",
       "      <th>Unemployment</th>\n",
       "      <th>Fund_rate</th>\n",
       "      <th>Retail</th>\n",
       "    </tr>\n",
       "    <tr>\n",
       "      <th>date</th>\n",
       "      <th></th>\n",
       "      <th></th>\n",
       "      <th></th>\n",
       "      <th></th>\n",
       "    </tr>\n",
       "  </thead>\n",
       "  <tbody>\n",
       "    <tr>\n",
       "      <th>2016-10</th>\n",
       "      <td>241.729</td>\n",
       "      <td>4.9</td>\n",
       "      <td>0.40</td>\n",
       "      <td>397394</td>\n",
       "    </tr>\n",
       "    <tr>\n",
       "      <th>2016-11</th>\n",
       "      <td>241.353</td>\n",
       "      <td>4.7</td>\n",
       "      <td>0.41</td>\n",
       "      <td>413901</td>\n",
       "    </tr>\n",
       "    <tr>\n",
       "      <th>2016-12</th>\n",
       "      <td>241.432</td>\n",
       "      <td>4.7</td>\n",
       "      <td>0.54</td>\n",
       "      <td>482002</td>\n",
       "    </tr>\n",
       "    <tr>\n",
       "      <th>2017-01</th>\n",
       "      <td>242.839</td>\n",
       "      <td>4.7</td>\n",
       "      <td>0.65</td>\n",
       "      <td>369081</td>\n",
       "    </tr>\n",
       "    <tr>\n",
       "      <th>2017-02</th>\n",
       "      <td>243.603</td>\n",
       "      <td>4.6</td>\n",
       "      <td>0.66</td>\n",
       "      <td>365592</td>\n",
       "    </tr>\n",
       "  </tbody>\n",
       "</table>\n",
       "</div>"
      ],
      "text/plain": [
       "             CPI  Unemployment  Fund_rate  Retail\n",
       "date                                             \n",
       "2016-10  241.729           4.9       0.40  397394\n",
       "2016-11  241.353           4.7       0.41  413901\n",
       "2016-12  241.432           4.7       0.54  482002\n",
       "2017-01  242.839           4.7       0.65  369081\n",
       "2017-02  243.603           4.6       0.66  365592"
      ]
     },
     "execution_count": 104,
     "metadata": {},
     "output_type": "execute_result"
    }
   ],
   "source": [
    "X_train.tail()"
   ]
  },
  {
   "cell_type": "code",
   "execution_count": 103,
   "metadata": {},
   "outputs": [
    {
     "data": {
      "text/html": [
       "<div>\n",
       "<style scoped>\n",
       "    .dataframe tbody tr th:only-of-type {\n",
       "        vertical-align: middle;\n",
       "    }\n",
       "\n",
       "    .dataframe tbody tr th {\n",
       "        vertical-align: top;\n",
       "    }\n",
       "\n",
       "    .dataframe thead th {\n",
       "        text-align: right;\n",
       "    }\n",
       "</style>\n",
       "<table border=\"1\" class=\"dataframe\">\n",
       "  <thead>\n",
       "    <tr style=\"text-align: right;\">\n",
       "      <th></th>\n",
       "      <th>date</th>\n",
       "      <th>SP500</th>\n",
       "    </tr>\n",
       "  </thead>\n",
       "  <tbody>\n",
       "    <tr>\n",
       "      <th>2</th>\n",
       "      <td>2017-05-01</td>\n",
       "      <td>2395.345881</td>\n",
       "    </tr>\n",
       "    <tr>\n",
       "      <th>3</th>\n",
       "      <td>2017-06-01</td>\n",
       "      <td>2433.985451</td>\n",
       "    </tr>\n",
       "    <tr>\n",
       "      <th>4</th>\n",
       "      <td>2017-07-01</td>\n",
       "      <td>2454.102502</td>\n",
       "    </tr>\n",
       "    <tr>\n",
       "      <th>5</th>\n",
       "      <td>2017-08-01</td>\n",
       "      <td>2456.223070</td>\n",
       "    </tr>\n",
       "    <tr>\n",
       "      <th>6</th>\n",
       "      <td>2017-09-01</td>\n",
       "      <td>2492.841040</td>\n",
       "    </tr>\n",
       "  </tbody>\n",
       "</table>\n",
       "</div>"
      ],
      "text/plain": [
       "        date        SP500\n",
       "2 2017-05-01  2395.345881\n",
       "3 2017-06-01  2433.985451\n",
       "4 2017-07-01  2454.102502\n",
       "5 2017-08-01  2456.223070\n",
       "6 2017-09-01  2492.841040"
      ]
     },
     "execution_count": 103,
     "metadata": {},
     "output_type": "execute_result"
    }
   ],
   "source": [
    "Y_test2.tail()"
   ]
  },
  {
   "cell_type": "code",
   "execution_count": null,
   "metadata": {},
   "outputs": [],
   "source": []
  }
 ],
 "metadata": {
  "kernelspec": {
   "display_name": "Python 3",
   "language": "python",
   "name": "python3"
  },
  "language_info": {
   "codemirror_mode": {
    "name": "ipython",
    "version": 3
   },
   "file_extension": ".py",
   "mimetype": "text/x-python",
   "name": "python",
   "nbconvert_exporter": "python",
   "pygments_lexer": "ipython3",
   "version": "3.9.1"
  },
  "orig_nbformat": 4,
  "vscode": {
   "interpreter": {
    "hash": "ee089c0d8a7b72a1db4475b00a1092da957cc6786a2373700bea0bde293de64c"
   }
  }
 },
 "nbformat": 4,
 "nbformat_minor": 2
}
