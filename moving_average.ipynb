{
 "cells": [
  {
   "cell_type": "code",
   "execution_count": null,
   "metadata": {},
   "outputs": [],
   "source": [
    "import pandas as pd\n",
    "import numpy as np\n",
    "from sklearn.linear_model import LinearRegression\n"
   ]
  },
  {
   "cell_type": "code",
   "execution_count": null,
   "metadata": {},
   "outputs": [],
   "source": [
    "# load weekly S&P 500 data\n",
    "sp500_data = pd.read_csv('sp500_weekly_data.csv')\n",
    "\n",
    "# load monthly economic data\n",
    "economic_data = pd.read_csv('economic_monthly_data.csv')\n"
   ]
  },
  {
   "attachments": {},
   "cell_type": "markdown",
   "metadata": {},
   "source": [
    "Convert the weekly S&P 500 data to a monthly time frame using a moving average:\n"
   ]
  },
  {
   "cell_type": "code",
   "execution_count": null,
   "metadata": {},
   "outputs": [],
   "source": [
    "# calculate the monthly moving average of the close price\n",
    "sp500_data['monthly_MA'] = sp500_data['close'].rolling(window=4).mean()\n"
   ]
  },
  {
   "attachments": {},
   "cell_type": "markdown",
   "metadata": {},
   "source": [
    "Merge the monthly S&P 500 data with the economic data:\n"
   ]
  },
  {
   "cell_type": "code",
   "execution_count": null,
   "metadata": {},
   "outputs": [],
   "source": [
    "# merge the data on the date column\n",
    "merged_data = pd.merge(sp500_data[['date', 'monthly_MA']], economic_data, on='date')\n"
   ]
  },
  {
   "attachments": {},
   "cell_type": "markdown",
   "metadata": {},
   "source": [
    "Fit the linear regression model with x as the time and y as the monthly S&P 500 close price:\n"
   ]
  },
  {
   "cell_type": "code",
   "execution_count": null,
   "metadata": {},
   "outputs": [],
   "source": [
    "# create the independent variable (time)\n",
    "merged_data['time'] = range(1, len(merged_data) + 1)\n",
    "\n",
    "# create the Linear Regression model\n",
    "model = LinearRegression()\n",
    "\n",
    "# fit the model to the data\n",
    "x = merged_data[['time','PPI','CPI']]\n",
    "y = merged_data['monthly_MA']\n",
    "model.fit(x, y)\n"
   ]
  },
  {
   "attachments": {},
   "cell_type": "markdown",
   "metadata": {},
   "source": [
    "Use the fitted model to predict the relationship between the economic data (PPI and CPI) and the S&P 500:\n"
   ]
  },
  {
   "cell_type": "code",
   "execution_count": null,
   "metadata": {},
   "outputs": [],
   "source": [
    "# create a new dataframe for prediction\n",
    "new_data = pd.read_csv('new_economic_data.csv')\n",
    "new_data['time'] = range(len(merged_data)+1, len(merged_data)+len(new_data)+1)\n",
    "\n",
    "# predict the relationship\n",
    "predictions = model.predict(new_data[['time','PPI','CPI']])\n"
   ]
  },
  {
   "cell_type": "code",
   "execution_count": null,
   "metadata": {},
   "outputs": [],
   "source": []
  }
 ],
 "metadata": {
  "kernelspec": {
   "display_name": "Python 3",
   "language": "python",
   "name": "python3"
  },
  "language_info": {
   "codemirror_mode": {
    "name": "ipython",
    "version": 3
   },
   "file_extension": ".py",
   "mimetype": "text/x-python",
   "name": "python",
   "nbconvert_exporter": "python",
   "pygments_lexer": "ipython3",
   "version": "3.9.1"
  },
  "orig_nbformat": 4,
  "vscode": {
   "interpreter": {
    "hash": "ee089c0d8a7b72a1db4475b00a1092da957cc6786a2373700bea0bde293de64c"
   }
  }
 },
 "nbformat": 4,
 "nbformat_minor": 2
}
