{
 "cells": [
  {
   "cell_type": "code",
   "execution_count": 1,
   "id": "ace00250",
   "metadata": {},
   "outputs": [],
   "source": [
    "import math\n",
    "import pylab\n",
    "import random\n",
    "import requests\n",
    "import numpy as np\n",
    "import pandas as pd\n",
    "import seaborn as sns\n",
    "import scipy.stats as stats\n",
    "from sklearn.svm import SVR\n",
    "import statsmodels.api as sm\n",
    "from pmdarima import auto_arima\n",
    "import matplotlib.pyplot as plt\n",
    "from statsmodels.tsa.arima.model import ARIMA\n",
    "from sklearn.neural_network import MLPRegressor\n",
    "from sklearn.neighbors import KNeighborsRegressor\n",
    "from sklearn.linear_model import LinearRegression\n",
    "from sklearn.model_selection import TimeSeriesSplit\n",
    "from sklearn.model_selection import train_test_split\n",
    "from sklearn.ensemble import GradientBoostingRegressor\n",
    "from sklearn.metrics import mean_squared_error, r2_score\n",
    "from sklearn.tree import DecisionTreeClassifier, DecisionTreeRegressor\n",
    "from sklearn.ensemble import RandomForestClassifier, RandomForestRegressor\n",
    "import altair as alt"
   ]
  },
  {
   "cell_type": "code",
   "execution_count": 2,
   "id": "8eafb2f3",
   "metadata": {},
   "outputs": [],
   "source": [
    "def get_folds(n, K):\n",
    "    ### Get the appropriate number of fold labels\n",
    "    n_fold = math.ceil(n / K) # Number of observations per fold (rounded up)\n",
    "    fold_ids_raw = list(range(1, K+1)) * n_fold\n",
    "    fold_ids = fold_ids_raw[:n]\n",
    "    random.shuffle(fold_ids)\n",
    "    return fold_ids\n",
    "\n",
    "def drop_unnamed(df):\n",
    "    # Drop the column 'Unnamed: 0'\n",
    "    df.drop(['Unnamed: 0'], axis=1, inplace=True)\n",
    "\n",
    "def format_date(df):\n",
    "    # Convert the 'date' column to the 'Y-M' format and set as index\n",
    "    df['date'] = pd.to_datetime(df['date']).dt.to_period('M')\n",
    "    df.set_index('date', inplace=True)\n",
    "    \n",
    "def df_subset(df, name):\n",
    "    # Subset the DataFrame based on dates\n",
    "    if name == 'GDP':\n",
    "        idx = df['2015-10':].index\n",
    "    else:\n",
    "        idx = df['2015-12':].index\n",
    "    df.drop(idx, inplace=True)\n",
    "    df.sort_index(ascending=True, inplace=True)\n",
    "    \n",
    "def df_rename(df, name):\n",
    "    # Rename column\n",
    "    df.rename(columns={'value': name}, inplace=True)"
   ]
  },
  {
   "cell_type": "code",
   "execution_count": 3,
   "id": "5db1387a",
   "metadata": {},
   "outputs": [],
   "source": [
    "### Read data\n",
    "cpi = pd.read_csv('data/cpi.csv') # per month from 1913-01-01 to 2022-12-01, total 1320 observations\n",
    "unemployment = pd.read_csv('data/unemployment.csv') # per month from 1948-01-01 to 2022-12-01, total 900 observations\n",
    "gdp = pd.read_csv('data/gdp.csv') # per quarter from 1947-01-01 to 2022-07-01, total 303 observations\n",
    "fund_rate = pd.read_csv('data/fundrate.csv') # per month from 1954-07-01 to 2022-12-01, total 822 observations\n",
    "retail = pd.read_csv('data/retail.csv') # per month from 1992-01-01 to 2022-12-01, total 372 observations\n",
    "durables = pd.read_csv('data/durables.csv') # per month from 1992-02-01 to 2022-11-01, total 370 observations\n",
    "SP500 = pd.read_csv('data/SP500.csv') # per day from 2016-01-04 to 2023-01-13, total 1771 observations"
   ]
  },
  {
   "cell_type": "code",
   "execution_count": 4,
   "id": "8bf85471",
   "metadata": {},
   "outputs": [
    {
     "data": {
      "text/html": [
       "<div>\n",
       "<style scoped>\n",
       "    .dataframe tbody tr th:only-of-type {\n",
       "        vertical-align: middle;\n",
       "    }\n",
       "\n",
       "    .dataframe tbody tr th {\n",
       "        vertical-align: top;\n",
       "    }\n",
       "\n",
       "    .dataframe thead th {\n",
       "        text-align: right;\n",
       "    }\n",
       "</style>\n",
       "<table border=\"1\" class=\"dataframe\">\n",
       "  <thead>\n",
       "    <tr style=\"text-align: right;\">\n",
       "      <th></th>\n",
       "      <th>SP500</th>\n",
       "      <th>CPI</th>\n",
       "      <th>Unemployment</th>\n",
       "      <th>Fund_rate</th>\n",
       "      <th>Retail</th>\n",
       "    </tr>\n",
       "    <tr>\n",
       "      <th>date</th>\n",
       "      <th></th>\n",
       "      <th></th>\n",
       "      <th></th>\n",
       "      <th></th>\n",
       "      <th></th>\n",
       "    </tr>\n",
       "  </thead>\n",
       "  <tbody>\n",
       "    <tr>\n",
       "      <th>2016-01</th>\n",
       "      <td>1918.597888</td>\n",
       "      <td>236.916</td>\n",
       "      <td>4.8</td>\n",
       "      <td>0.34</td>\n",
       "      <td>351772</td>\n",
       "    </tr>\n",
       "    <tr>\n",
       "      <th>2016-02</th>\n",
       "      <td>1904.418494</td>\n",
       "      <td>237.111</td>\n",
       "      <td>4.9</td>\n",
       "      <td>0.38</td>\n",
       "      <td>363527</td>\n",
       "    </tr>\n",
       "    <tr>\n",
       "      <th>2016-03</th>\n",
       "      <td>2021.954090</td>\n",
       "      <td>238.132</td>\n",
       "      <td>5.0</td>\n",
       "      <td>0.36</td>\n",
       "      <td>404996</td>\n",
       "    </tr>\n",
       "    <tr>\n",
       "      <th>2016-04</th>\n",
       "      <td>2075.535232</td>\n",
       "      <td>239.261</td>\n",
       "      <td>5.1</td>\n",
       "      <td>0.37</td>\n",
       "      <td>394743</td>\n",
       "    </tr>\n",
       "    <tr>\n",
       "      <th>2016-05</th>\n",
       "      <td>2065.550479</td>\n",
       "      <td>240.229</td>\n",
       "      <td>4.8</td>\n",
       "      <td>0.37</td>\n",
       "      <td>413036</td>\n",
       "    </tr>\n",
       "    <tr>\n",
       "      <th>...</th>\n",
       "      <td>...</td>\n",
       "      <td>...</td>\n",
       "      <td>...</td>\n",
       "      <td>...</td>\n",
       "      <td>...</td>\n",
       "    </tr>\n",
       "    <tr>\n",
       "      <th>2022-08</th>\n",
       "      <td>4158.563084</td>\n",
       "      <td>296.171</td>\n",
       "      <td>3.7</td>\n",
       "      <td>2.33</td>\n",
       "      <td>613416</td>\n",
       "    </tr>\n",
       "    <tr>\n",
       "      <th>2022-09</th>\n",
       "      <td>3850.520496</td>\n",
       "      <td>296.808</td>\n",
       "      <td>3.5</td>\n",
       "      <td>2.56</td>\n",
       "      <td>577370</td>\n",
       "    </tr>\n",
       "    <tr>\n",
       "      <th>2022-10</th>\n",
       "      <td>3726.050956</td>\n",
       "      <td>298.012</td>\n",
       "      <td>3.7</td>\n",
       "      <td>3.08</td>\n",
       "      <td>597349</td>\n",
       "    </tr>\n",
       "    <tr>\n",
       "      <th>2022-11</th>\n",
       "      <td>3917.488595</td>\n",
       "      <td>297.711</td>\n",
       "      <td>3.6</td>\n",
       "      <td>3.78</td>\n",
       "      <td>610784</td>\n",
       "    </tr>\n",
       "    <tr>\n",
       "      <th>2022-12</th>\n",
       "      <td>3912.380952</td>\n",
       "      <td>296.797</td>\n",
       "      <td>3.5</td>\n",
       "      <td>4.10</td>\n",
       "      <td>660004</td>\n",
       "    </tr>\n",
       "  </tbody>\n",
       "</table>\n",
       "<p>84 rows × 5 columns</p>\n",
       "</div>"
      ],
      "text/plain": [
       "               SP500      CPI  Unemployment  Fund_rate  Retail\n",
       "date                                                          \n",
       "2016-01  1918.597888  236.916           4.8       0.34  351772\n",
       "2016-02  1904.418494  237.111           4.9       0.38  363527\n",
       "2016-03  2021.954090  238.132           5.0       0.36  404996\n",
       "2016-04  2075.535232  239.261           5.1       0.37  394743\n",
       "2016-05  2065.550479  240.229           4.8       0.37  413036\n",
       "...              ...      ...           ...        ...     ...\n",
       "2022-08  4158.563084  296.171           3.7       2.33  613416\n",
       "2022-09  3850.520496  296.808           3.5       2.56  577370\n",
       "2022-10  3726.050956  298.012           3.7       3.08  597349\n",
       "2022-11  3917.488595  297.711           3.6       3.78  610784\n",
       "2022-12  3912.380952  296.797           3.5       4.10  660004\n",
       "\n",
       "[84 rows x 5 columns]"
      ]
     },
     "execution_count": 4,
     "metadata": {},
     "output_type": "execute_result"
    }
   ],
   "source": [
    "### Data Wrangling\n",
    "for df, name in zip([cpi, unemployment, gdp, fund_rate, durables, retail],\n",
    "                   ['CPI', 'Unemployment', 'GDP', 'Fund_rate', 'Durables', 'Retail']):\n",
    "    drop_unnamed(df)\n",
    "    format_date(df)\n",
    "    df_subset(df, name)\n",
    "    df_rename(df, name)\n",
    "\n",
    "# SP500 is a special one\n",
    "SP500 = SP500.rename({'Date':'date'}, axis=1)\n",
    "format_date(SP500)\n",
    "# Calculate the average value for each month for column 'Close'\n",
    "SP500 = SP500.groupby('date').mean()\n",
    "# Subset the DataFrame with dates between 2016-01 and 2022-12\n",
    "SP500 = SP500['2016-01':'2022-12']\n",
    "# Only keep the column 'Close'\n",
    "SP500 = SP500[['Close']]\n",
    "# Rename the column 'Close' to 'SP500'\n",
    "SP500.rename(columns={'Close': 'SP500'}, inplace=True)\n",
    "\n",
    "df = pd.concat([SP500, cpi, unemployment, fund_rate, retail], axis=1)\n",
    "df\n"
   ]
  },
  {
   "cell_type": "code",
   "execution_count": 5,
   "id": "ccec1d9d",
   "metadata": {},
   "outputs": [
    {
     "data": {
      "text/html": [
       "<div>\n",
       "<style scoped>\n",
       "    .dataframe tbody tr th:only-of-type {\n",
       "        vertical-align: middle;\n",
       "    }\n",
       "\n",
       "    .dataframe tbody tr th {\n",
       "        vertical-align: top;\n",
       "    }\n",
       "\n",
       "    .dataframe thead th {\n",
       "        text-align: right;\n",
       "    }\n",
       "</style>\n",
       "<table border=\"1\" class=\"dataframe\">\n",
       "  <thead>\n",
       "    <tr style=\"text-align: right;\">\n",
       "      <th></th>\n",
       "      <th>SP500</th>\n",
       "      <th>CPI</th>\n",
       "      <th>Unemployment</th>\n",
       "      <th>Fund_rate</th>\n",
       "      <th>Retail</th>\n",
       "    </tr>\n",
       "  </thead>\n",
       "  <tbody>\n",
       "    <tr>\n",
       "      <th>SP500</th>\n",
       "      <td>1.000000</td>\n",
       "      <td>0.873721</td>\n",
       "      <td>0.001425</td>\n",
       "      <td>-0.130268</td>\n",
       "      <td>0.846709</td>\n",
       "    </tr>\n",
       "    <tr>\n",
       "      <th>CPI</th>\n",
       "      <td>0.873721</td>\n",
       "      <td>1.000000</td>\n",
       "      <td>-0.107351</td>\n",
       "      <td>0.172674</td>\n",
       "      <td>0.890135</td>\n",
       "    </tr>\n",
       "    <tr>\n",
       "      <th>Unemployment</th>\n",
       "      <td>0.001425</td>\n",
       "      <td>-0.107351</td>\n",
       "      <td>1.000000</td>\n",
       "      <td>-0.517548</td>\n",
       "      <td>-0.094071</td>\n",
       "    </tr>\n",
       "    <tr>\n",
       "      <th>Fund_rate</th>\n",
       "      <td>-0.130268</td>\n",
       "      <td>0.172674</td>\n",
       "      <td>-0.517548</td>\n",
       "      <td>1.000000</td>\n",
       "      <td>0.064315</td>\n",
       "    </tr>\n",
       "    <tr>\n",
       "      <th>Retail</th>\n",
       "      <td>0.846709</td>\n",
       "      <td>0.890135</td>\n",
       "      <td>-0.094071</td>\n",
       "      <td>0.064315</td>\n",
       "      <td>1.000000</td>\n",
       "    </tr>\n",
       "  </tbody>\n",
       "</table>\n",
       "</div>"
      ],
      "text/plain": [
       "                 SP500       CPI  Unemployment  Fund_rate    Retail\n",
       "SP500         1.000000  0.873721      0.001425  -0.130268  0.846709\n",
       "CPI           0.873721  1.000000     -0.107351   0.172674  0.890135\n",
       "Unemployment  0.001425 -0.107351      1.000000  -0.517548 -0.094071\n",
       "Fund_rate    -0.130268  0.172674     -0.517548   1.000000  0.064315\n",
       "Retail        0.846709  0.890135     -0.094071   0.064315  1.000000"
      ]
     },
     "execution_count": 5,
     "metadata": {},
     "output_type": "execute_result"
    }
   ],
   "source": [
    "### Analysis\n",
    "# Correlation matrix\n",
    "df.corr()"
   ]
  },
  {
   "cell_type": "code",
   "execution_count": 6,
   "id": "205e15a0",
   "metadata": {},
   "outputs": [
    {
     "data": {
      "text/html": [
       "\n",
       "<div id=\"altair-viz-a2a0690c8905447cbc00c76e8bca1a30\"></div>\n",
       "<script type=\"text/javascript\">\n",
       "  var VEGA_DEBUG = (typeof VEGA_DEBUG == \"undefined\") ? {} : VEGA_DEBUG;\n",
       "  (function(spec, embedOpt){\n",
       "    let outputDiv = document.currentScript.previousElementSibling;\n",
       "    if (outputDiv.id !== \"altair-viz-a2a0690c8905447cbc00c76e8bca1a30\") {\n",
       "      outputDiv = document.getElementById(\"altair-viz-a2a0690c8905447cbc00c76e8bca1a30\");\n",
       "    }\n",
       "    const paths = {\n",
       "      \"vega\": \"https://cdn.jsdelivr.net/npm//vega@5?noext\",\n",
       "      \"vega-lib\": \"https://cdn.jsdelivr.net/npm//vega-lib?noext\",\n",
       "      \"vega-lite\": \"https://cdn.jsdelivr.net/npm//vega-lite@4.17.0?noext\",\n",
       "      \"vega-embed\": \"https://cdn.jsdelivr.net/npm//vega-embed@6?noext\",\n",
       "    };\n",
       "\n",
       "    function maybeLoadScript(lib, version) {\n",
       "      var key = `${lib.replace(\"-\", \"\")}_version`;\n",
       "      return (VEGA_DEBUG[key] == version) ?\n",
       "        Promise.resolve(paths[lib]) :\n",
       "        new Promise(function(resolve, reject) {\n",
       "          var s = document.createElement('script');\n",
       "          document.getElementsByTagName(\"head\")[0].appendChild(s);\n",
       "          s.async = true;\n",
       "          s.onload = () => {\n",
       "            VEGA_DEBUG[key] = version;\n",
       "            return resolve(paths[lib]);\n",
       "          };\n",
       "          s.onerror = () => reject(`Error loading script: ${paths[lib]}`);\n",
       "          s.src = paths[lib];\n",
       "        });\n",
       "    }\n",
       "\n",
       "    function showError(err) {\n",
       "      outputDiv.innerHTML = `<div class=\"error\" style=\"color:red;\">${err}</div>`;\n",
       "      throw err;\n",
       "    }\n",
       "\n",
       "    function displayChart(vegaEmbed) {\n",
       "      vegaEmbed(outputDiv, spec, embedOpt)\n",
       "        .catch(err => showError(`Javascript Error: ${err.message}<br>This usually means there's a typo in your chart specification. See the javascript console for the full traceback.`));\n",
       "    }\n",
       "\n",
       "    if(typeof define === \"function\" && define.amd) {\n",
       "      requirejs.config({paths});\n",
       "      require([\"vega-embed\"], displayChart, err => showError(`Error loading script: ${err.message}`));\n",
       "    } else {\n",
       "      maybeLoadScript(\"vega\", \"5\")\n",
       "        .then(() => maybeLoadScript(\"vega-lite\", \"4.17.0\"))\n",
       "        .then(() => maybeLoadScript(\"vega-embed\", \"6\"))\n",
       "        .catch(showError)\n",
       "        .then(() => displayChart(vegaEmbed));\n",
       "    }\n",
       "  })({\"config\": {\"view\": {\"continuousWidth\": 400, \"continuousHeight\": 300}}, \"repeat\": {\"column\": [\"SP500\", \"CPI\", \"Unemployment\", \"Fund_rate\", \"Retail\"], \"row\": [\"SP500\", \"CPI\", \"Unemployment\", \"Fund_rate\", \"Retail\"]}, \"spec\": {\"data\": {\"name\": \"data-c944da3794164033c5135f79d7c3d645\"}, \"mark\": \"point\", \"encoding\": {\"x\": {\"field\": {\"repeat\": \"column\"}, \"scale\": {\"zero\": false}, \"title\": \"\", \"type\": \"quantitative\"}, \"y\": {\"field\": {\"repeat\": \"row\"}, \"scale\": {\"zero\": false}, \"title\": \"\", \"type\": \"quantitative\"}}, \"height\": 150, \"width\": 150}, \"$schema\": \"https://vega.github.io/schema/vega-lite/v4.17.0.json\", \"datasets\": {\"data-c944da3794164033c5135f79d7c3d645\": [{\"SP500\": 1918.5978875411183, \"CPI\": 236.916, \"Unemployment\": 4.8, \"Fund_rate\": 0.34, \"Retail\": 351772}, {\"SP500\": 1904.4184936523438, \"CPI\": 237.111, \"Unemployment\": 4.9, \"Fund_rate\": 0.38, \"Retail\": 363527}, {\"SP500\": 2021.9540904651988, \"CPI\": 238.132, \"Unemployment\": 5.0, \"Fund_rate\": 0.36, \"Retail\": 404996}, {\"SP500\": 2075.5352318173364, \"CPI\": 239.261, \"Unemployment\": 5.1, \"Fund_rate\": 0.37, \"Retail\": 394743}, {\"SP500\": 2065.5504789806546, \"CPI\": 240.229, \"Unemployment\": 4.8, \"Fund_rate\": 0.37, \"Retail\": 413036}, {\"SP500\": 2083.891368519176, \"CPI\": 241.018, \"Unemployment\": 4.9, \"Fund_rate\": 0.38, \"Retail\": 410071}, {\"SP500\": 2148.9019775390625, \"CPI\": 240.628, \"Unemployment\": 4.8, \"Fund_rate\": 0.39, \"Retail\": 405965}, {\"SP500\": 2177.482167119565, \"CPI\": 240.849, \"Unemployment\": 4.9, \"Fund_rate\": 0.4, \"Retail\": 416489}, {\"SP500\": 2157.690964471726, \"CPI\": 241.428, \"Unemployment\": 5.0, \"Fund_rate\": 0.4, \"Retail\": 394200}, {\"SP500\": 2143.0209379650296, \"CPI\": 241.729, \"Unemployment\": 4.9, \"Fund_rate\": 0.4, \"Retail\": 397394}, {\"SP500\": 2164.9856887090773, \"CPI\": 241.353, \"Unemployment\": 4.7, \"Fund_rate\": 0.41, \"Retail\": 413901}, {\"SP500\": 2246.6290457589284, \"CPI\": 241.432, \"Unemployment\": 4.7, \"Fund_rate\": 0.54, \"Retail\": 482002}, {\"SP500\": 2275.1159790039064, \"CPI\": 242.839, \"Unemployment\": 4.7, \"Fund_rate\": 0.65, \"Retail\": 369081}, {\"SP500\": 2329.9105417351975, \"CPI\": 243.603, \"Unemployment\": 4.6, \"Fund_rate\": 0.66, \"Retail\": 365592}, {\"SP500\": 2366.822170091712, \"CPI\": 243.801, \"Unemployment\": 4.4, \"Fund_rate\": 0.79, \"Retail\": 423002}, {\"SP500\": 2359.309454666941, \"CPI\": 244.524, \"Unemployment\": 4.4, \"Fund_rate\": 0.9, \"Retail\": 407240}, {\"SP500\": 2395.345880681818, \"CPI\": 244.733, \"Unemployment\": 4.4, \"Fund_rate\": 0.91, \"Retail\": 434506}, {\"SP500\": 2433.98545143821, \"CPI\": 244.955, \"Unemployment\": 4.3, \"Fund_rate\": 1.04, \"Retail\": 423066}, {\"SP500\": 2454.102502441406, \"CPI\": 244.786, \"Unemployment\": 4.3, \"Fund_rate\": 1.15, \"Retail\": 416906}, {\"SP500\": 2456.2230702275815, \"CPI\": 245.519, \"Unemployment\": 4.4, \"Fund_rate\": 1.16, \"Retail\": 431804}, {\"SP500\": 2492.8410400390626, \"CPI\": 246.819, \"Unemployment\": 4.3, \"Fund_rate\": 1.15, \"Retail\": 412546}, {\"SP500\": 2556.9972700639205, \"CPI\": 246.663, \"Unemployment\": 4.2, \"Fund_rate\": 1.15, \"Retail\": 417773}, {\"SP500\": 2593.605736142113, \"CPI\": 246.669, \"Unemployment\": 4.2, \"Fund_rate\": 1.16, \"Retail\": 441933}, {\"SP500\": 2664.34052734375, \"CPI\": 246.524, \"Unemployment\": 4.1, \"Fund_rate\": 1.3, \"Retail\": 496765}, {\"SP500\": 2789.8038155691966, \"CPI\": 247.867, \"Unemployment\": 4.0, \"Fund_rate\": 1.41, \"Retail\": 389740}, {\"SP500\": 2705.1552477384867, \"CPI\": 248.991, \"Unemployment\": 4.1, \"Fund_rate\": 1.42, \"Retail\": 380598}, {\"SP500\": 2702.7738211495534, \"CPI\": 249.554, \"Unemployment\": 4.0, \"Fund_rate\": 1.51, \"Retail\": 444925}, {\"SP500\": 2653.6252092633927, \"CPI\": 250.546, \"Unemployment\": 4.0, \"Fund_rate\": 1.69, \"Retail\": 420209}, {\"SP500\": 2701.4936190518465, \"CPI\": 251.588, \"Unemployment\": 3.8, \"Fund_rate\": 1.7, \"Retail\": 464271}, {\"SP500\": 2754.3528878348216, \"CPI\": 251.989, \"Unemployment\": 4.0, \"Fund_rate\": 1.82, \"Retail\": 443732}, {\"SP500\": 2793.643357049851, \"CPI\": 252.006, \"Unemployment\": 3.8, \"Fund_rate\": 1.91, \"Retail\": 441832}, {\"SP500\": 2857.8204292629075, \"CPI\": 252.146, \"Unemployment\": 3.8, \"Fund_rate\": 1.91, \"Retail\": 456445}, {\"SP500\": 2901.5005139802633, \"CPI\": 252.439, \"Unemployment\": 3.7, \"Fund_rate\": 1.95, \"Retail\": 417510}, {\"SP500\": 2785.4647800611415, \"CPI\": 252.885, \"Unemployment\": 3.8, \"Fund_rate\": 2.19, \"Retail\": 442256}, {\"SP500\": 2723.231422061012, \"CPI\": 252.038, \"Unemployment\": 3.8, \"Fund_rate\": 2.2, \"Retail\": 460034}, {\"SP500\": 2567.3073858963817, \"CPI\": 251.233, \"Unemployment\": 3.9, \"Fund_rate\": 2.27, \"Retail\": 493873}, {\"SP500\": 2607.3899972098216, \"CPI\": 251.712, \"Unemployment\": 4.0, \"Fund_rate\": 2.4, \"Retail\": 399359}, {\"SP500\": 2754.8642064144738, \"CPI\": 252.776, \"Unemployment\": 3.8, \"Fund_rate\": 2.4, \"Retail\": 384977}, {\"SP500\": 2803.9837937127977, \"CPI\": 254.202, \"Unemployment\": 3.8, \"Fund_rate\": 2.41, \"Retail\": 447160}, {\"SP500\": 2903.799979073661, \"CPI\": 255.548, \"Unemployment\": 3.6, \"Fund_rate\": 2.42, \"Retail\": 442704}, {\"SP500\": 2854.705910422585, \"CPI\": 256.092, \"Unemployment\": 3.7, \"Fund_rate\": 2.39, \"Retail\": 475656}, {\"SP500\": 2890.165979003906, \"CPI\": 256.143, \"Unemployment\": 3.6, \"Fund_rate\": 2.38, \"Retail\": 448224}, {\"SP500\": 2996.1136363636365, \"CPI\": 256.571, \"Unemployment\": 3.7, \"Fund_rate\": 2.4, \"Retail\": 461642}, {\"SP500\": 2897.450450550426, \"CPI\": 256.558, \"Unemployment\": 3.7, \"Fund_rate\": 2.13, \"Retail\": 472891}, {\"SP500\": 2982.156005859375, \"CPI\": 256.759, \"Unemployment\": 3.5, \"Fund_rate\": 2.04, \"Retail\": 428334}, {\"SP500\": 2977.675197435462, \"CPI\": 257.346, \"Unemployment\": 3.6, \"Fund_rate\": 1.83, \"Retail\": 455035}, {\"SP500\": 3104.9044921875, \"CPI\": 257.208, \"Unemployment\": 3.6, \"Fund_rate\": 1.55, \"Retail\": 467311}, {\"SP500\": 3176.74951171875, \"CPI\": 256.974, \"Unemployment\": 3.6, \"Fund_rate\": 1.55, \"Retail\": 518979}, {\"SP500\": 3278.202857607887, \"CPI\": 257.971, \"Unemployment\": 3.5, \"Fund_rate\": 1.55, \"Retail\": 416285}, {\"SP500\": 3277.3141832853617, \"CPI\": 258.678, \"Unemployment\": 3.5, \"Fund_rate\": 1.58, \"Retail\": 413203}, {\"SP500\": 2652.393632368608, \"CPI\": 258.115, \"Unemployment\": 4.4, \"Fund_rate\": 0.65, \"Retail\": 428285}, {\"SP500\": 2761.9752255394346, \"CPI\": 256.389, \"Unemployment\": 14.7, \"Fund_rate\": 0.05, \"Retail\": 375242}, {\"SP500\": 2919.6084838867187, \"CPI\": 256.394, \"Unemployment\": 13.2, \"Fund_rate\": 0.05, \"Retail\": 460253}, {\"SP500\": 3104.6609330610795, \"CPI\": 257.797, \"Unemployment\": 11.0, \"Fund_rate\": 0.08, \"Retail\": 478667}, {\"SP500\": 3207.6190962357955, \"CPI\": 259.101, \"Unemployment\": 10.2, \"Fund_rate\": 0.09, \"Retail\": 492259}, {\"SP500\": 3391.7100190662204, \"CPI\": 259.918, \"Unemployment\": 8.4, \"Fund_rate\": 0.1, \"Retail\": 487134}, {\"SP500\": 3365.516671316964, \"CPI\": 260.28, \"Unemployment\": 7.9, \"Fund_rate\": 0.09, \"Retail\": 474284}, {\"SP500\": 3418.6999955610795, \"CPI\": 260.388, \"Unemployment\": 6.9, \"Fund_rate\": 0.09, \"Retail\": 494134}, {\"SP500\": 3548.99248046875, \"CPI\": 260.229, \"Unemployment\": 6.7, \"Fund_rate\": 0.09, \"Retail\": 491813}, {\"SP500\": 3695.3100142045455, \"CPI\": 260.474, \"Unemployment\": 6.7, \"Fund_rate\": 0.09, \"Retail\": 558834}, {\"SP500\": 3793.7484323601975, \"CPI\": 261.582, \"Unemployment\": 6.3, \"Fund_rate\": 0.09, \"Retail\": 462558}, {\"SP500\": 3883.4321160567433, \"CPI\": 263.014, \"Unemployment\": 6.2, \"Fund_rate\": 0.08, \"Retail\": 438933}, {\"SP500\": 3910.5082795516305, \"CPI\": 264.877, \"Unemployment\": 6.1, \"Fund_rate\": 0.07, \"Retail\": 565764}, {\"SP500\": 4141.176199776785, \"CPI\": 267.054, \"Unemployment\": 6.1, \"Fund_rate\": 0.07, \"Retail\": 557874}, {\"SP500\": 4167.849536132812, \"CPI\": 269.195, \"Unemployment\": 5.8, \"Fund_rate\": 0.06, \"Retail\": 567461}, {\"SP500\": 4238.48954634233, \"CPI\": 271.696, \"Unemployment\": 5.9, \"Fund_rate\": 0.08, \"Retail\": 560679}, {\"SP500\": 4363.712797619048, \"CPI\": 273.003, \"Unemployment\": 5.4, \"Fund_rate\": 0.1, \"Retail\": 554845}, {\"SP500\": 4453.965931285511, \"CPI\": 273.567, \"Unemployment\": 5.2, \"Fund_rate\": 0.09, \"Retail\": 553822}, {\"SP500\": 4445.543317522322, \"CPI\": 274.31, \"Unemployment\": 4.8, \"Fund_rate\": 0.08, \"Retail\": 532840}, {\"SP500\": 4460.707077752976, \"CPI\": 276.589, \"Unemployment\": 4.5, \"Fund_rate\": 0.08, \"Retail\": 557737}, {\"SP500\": 4667.386648995535, \"CPI\": 277.948, \"Unemployment\": 4.2, \"Fund_rate\": 0.08, \"Retail\": 579687}, {\"SP500\": 4674.772771661932, \"CPI\": 278.802, \"Unemployment\": 3.9, \"Fund_rate\": 0.08, \"Retail\": 632849}, {\"SP500\": 4573.815454101563, \"CPI\": 281.148, \"Unemployment\": 4.0, \"Fund_rate\": 0.08, \"Retail\": 518146}, {\"SP500\": 4435.980494449013, \"CPI\": 283.716, \"Unemployment\": 3.8, \"Fund_rate\": 0.08, \"Retail\": 506400}, {\"SP500\": 4391.265264096467, \"CPI\": 287.504, \"Unemployment\": 3.6, \"Fund_rate\": 0.2, \"Retail\": 597077}, {\"SP500\": 4391.29599609375, \"CPI\": 289.109, \"Unemployment\": 3.6, \"Fund_rate\": 0.33, \"Retail\": 594426}, {\"SP500\": 4040.3600027901784, \"CPI\": 292.296, \"Unemployment\": 3.6, \"Fund_rate\": 0.77, \"Retail\": 614474}, {\"SP500\": 3898.9466843377977, \"CPI\": 296.311, \"Unemployment\": 3.6, \"Fund_rate\": 1.21, \"Retail\": 609933}, {\"SP500\": 3911.7294921875, \"CPI\": 296.276, \"Unemployment\": 3.5, \"Fund_rate\": 1.68, \"Retail\": 600746}, {\"SP500\": 4158.563083814538, \"CPI\": 296.171, \"Unemployment\": 3.7, \"Fund_rate\": 2.33, \"Retail\": 613416}, {\"SP500\": 3850.5204961867557, \"CPI\": 296.808, \"Unemployment\": 3.5, \"Fund_rate\": 2.56, \"Retail\": 577370}, {\"SP500\": 3726.050955636161, \"CPI\": 298.012, \"Unemployment\": 3.7, \"Fund_rate\": 3.08, \"Retail\": 597349}, {\"SP500\": 3917.488595145089, \"CPI\": 297.711, \"Unemployment\": 3.6, \"Fund_rate\": 3.78, \"Retail\": 610784}, {\"SP500\": 3912.3809523809523, \"CPI\": 296.797, \"Unemployment\": 3.5, \"Fund_rate\": 4.1, \"Retail\": 660004}]}}, {\"mode\": \"vega-lite\"});\n",
       "</script>"
      ],
      "text/plain": [
       "alt.RepeatChart(...)"
      ]
     },
     "execution_count": 6,
     "metadata": {},
     "output_type": "execute_result"
    }
   ],
   "source": [
    "# Scatter plots\n",
    "columns = np.asarray(df.columns)\n",
    "scatter = alt.Chart(df, height=150, width=150).mark_point(\n",
    ").encode(\n",
    "    alt.X(alt.repeat('column'), type = 'quantitative', scale=alt.Scale(zero=False), title=''),\n",
    "    alt.Y(alt.repeat('row'), type = 'quantitative', scale=alt.Scale(zero=False), title='')\n",
    ").repeat(\n",
    "    row = columns, column = columns\n",
    ")\n",
    "scatter"
   ]
  },
  {
   "cell_type": "code",
   "execution_count": 9,
   "id": "eeeeb28e",
   "metadata": {},
   "outputs": [
    {
     "data": {
      "text/html": [
       "\n",
       "<div id=\"altair-viz-79df084d42f848148b3156682ae11962\"></div>\n",
       "<script type=\"text/javascript\">\n",
       "  var VEGA_DEBUG = (typeof VEGA_DEBUG == \"undefined\") ? {} : VEGA_DEBUG;\n",
       "  (function(spec, embedOpt){\n",
       "    let outputDiv = document.currentScript.previousElementSibling;\n",
       "    if (outputDiv.id !== \"altair-viz-79df084d42f848148b3156682ae11962\") {\n",
       "      outputDiv = document.getElementById(\"altair-viz-79df084d42f848148b3156682ae11962\");\n",
       "    }\n",
       "    const paths = {\n",
       "      \"vega\": \"https://cdn.jsdelivr.net/npm//vega@5?noext\",\n",
       "      \"vega-lib\": \"https://cdn.jsdelivr.net/npm//vega-lib?noext\",\n",
       "      \"vega-lite\": \"https://cdn.jsdelivr.net/npm//vega-lite@4.17.0?noext\",\n",
       "      \"vega-embed\": \"https://cdn.jsdelivr.net/npm//vega-embed@6?noext\",\n",
       "    };\n",
       "\n",
       "    function maybeLoadScript(lib, version) {\n",
       "      var key = `${lib.replace(\"-\", \"\")}_version`;\n",
       "      return (VEGA_DEBUG[key] == version) ?\n",
       "        Promise.resolve(paths[lib]) :\n",
       "        new Promise(function(resolve, reject) {\n",
       "          var s = document.createElement('script');\n",
       "          document.getElementsByTagName(\"head\")[0].appendChild(s);\n",
       "          s.async = true;\n",
       "          s.onload = () => {\n",
       "            VEGA_DEBUG[key] = version;\n",
       "            return resolve(paths[lib]);\n",
       "          };\n",
       "          s.onerror = () => reject(`Error loading script: ${paths[lib]}`);\n",
       "          s.src = paths[lib];\n",
       "        });\n",
       "    }\n",
       "\n",
       "    function showError(err) {\n",
       "      outputDiv.innerHTML = `<div class=\"error\" style=\"color:red;\">${err}</div>`;\n",
       "      throw err;\n",
       "    }\n",
       "\n",
       "    function displayChart(vegaEmbed) {\n",
       "      vegaEmbed(outputDiv, spec, embedOpt)\n",
       "        .catch(err => showError(`Javascript Error: ${err.message}<br>This usually means there's a typo in your chart specification. See the javascript console for the full traceback.`));\n",
       "    }\n",
       "\n",
       "    if(typeof define === \"function\" && define.amd) {\n",
       "      requirejs.config({paths});\n",
       "      require([\"vega-embed\"], displayChart, err => showError(`Error loading script: ${err.message}`));\n",
       "    } else {\n",
       "      maybeLoadScript(\"vega\", \"5\")\n",
       "        .then(() => maybeLoadScript(\"vega-lite\", \"4.17.0\"))\n",
       "        .then(() => maybeLoadScript(\"vega-embed\", \"6\"))\n",
       "        .catch(showError)\n",
       "        .then(() => displayChart(vegaEmbed));\n",
       "    }\n",
       "  })({\"config\": {\"view\": {\"continuousWidth\": 400, \"continuousHeight\": 300}}, \"repeat\": [\"SP500\", \"CPI\", \"Unemployment\", \"Fund_rate\", \"Retail\"], \"spec\": {\"data\": {\"name\": \"data-71bf9ccfce3d0c71222fa6f4ba2397ad\"}, \"mark\": \"line\", \"encoding\": {\"x\": {\"field\": \"date\", \"type\": \"temporal\"}, \"y\": {\"field\": {\"repeat\": \"repeat\"}, \"scale\": {\"zero\": false}, \"type\": \"quantitative\"}}, \"height\": 100, \"width\": 150}, \"columns\": 3, \"$schema\": \"https://vega.github.io/schema/vega-lite/v4.17.0.json\", \"datasets\": {\"data-71bf9ccfce3d0c71222fa6f4ba2397ad\": [{\"date\": \"2016-01\", \"SP500\": 1918.5978875411183, \"CPI\": 236.916, \"Unemployment\": 4.8, \"Fund_rate\": 0.34, \"Retail\": 351772}, {\"date\": \"2016-02\", \"SP500\": 1904.4184936523438, \"CPI\": 237.111, \"Unemployment\": 4.9, \"Fund_rate\": 0.38, \"Retail\": 363527}, {\"date\": \"2016-03\", \"SP500\": 2021.9540904651988, \"CPI\": 238.132, \"Unemployment\": 5.0, \"Fund_rate\": 0.36, \"Retail\": 404996}, {\"date\": \"2016-04\", \"SP500\": 2075.5352318173364, \"CPI\": 239.261, \"Unemployment\": 5.1, \"Fund_rate\": 0.37, \"Retail\": 394743}, {\"date\": \"2016-05\", \"SP500\": 2065.5504789806546, \"CPI\": 240.229, \"Unemployment\": 4.8, \"Fund_rate\": 0.37, \"Retail\": 413036}, {\"date\": \"2016-06\", \"SP500\": 2083.891368519176, \"CPI\": 241.018, \"Unemployment\": 4.9, \"Fund_rate\": 0.38, \"Retail\": 410071}, {\"date\": \"2016-07\", \"SP500\": 2148.9019775390625, \"CPI\": 240.628, \"Unemployment\": 4.8, \"Fund_rate\": 0.39, \"Retail\": 405965}, {\"date\": \"2016-08\", \"SP500\": 2177.482167119565, \"CPI\": 240.849, \"Unemployment\": 4.9, \"Fund_rate\": 0.4, \"Retail\": 416489}, {\"date\": \"2016-09\", \"SP500\": 2157.690964471726, \"CPI\": 241.428, \"Unemployment\": 5.0, \"Fund_rate\": 0.4, \"Retail\": 394200}, {\"date\": \"2016-10\", \"SP500\": 2143.0209379650296, \"CPI\": 241.729, \"Unemployment\": 4.9, \"Fund_rate\": 0.4, \"Retail\": 397394}, {\"date\": \"2016-11\", \"SP500\": 2164.9856887090773, \"CPI\": 241.353, \"Unemployment\": 4.7, \"Fund_rate\": 0.41, \"Retail\": 413901}, {\"date\": \"2016-12\", \"SP500\": 2246.6290457589284, \"CPI\": 241.432, \"Unemployment\": 4.7, \"Fund_rate\": 0.54, \"Retail\": 482002}, {\"date\": \"2017-01\", \"SP500\": 2275.1159790039064, \"CPI\": 242.839, \"Unemployment\": 4.7, \"Fund_rate\": 0.65, \"Retail\": 369081}, {\"date\": \"2017-02\", \"SP500\": 2329.9105417351975, \"CPI\": 243.603, \"Unemployment\": 4.6, \"Fund_rate\": 0.66, \"Retail\": 365592}, {\"date\": \"2017-03\", \"SP500\": 2366.822170091712, \"CPI\": 243.801, \"Unemployment\": 4.4, \"Fund_rate\": 0.79, \"Retail\": 423002}, {\"date\": \"2017-04\", \"SP500\": 2359.309454666941, \"CPI\": 244.524, \"Unemployment\": 4.4, \"Fund_rate\": 0.9, \"Retail\": 407240}, {\"date\": \"2017-05\", \"SP500\": 2395.345880681818, \"CPI\": 244.733, \"Unemployment\": 4.4, \"Fund_rate\": 0.91, \"Retail\": 434506}, {\"date\": \"2017-06\", \"SP500\": 2433.98545143821, \"CPI\": 244.955, \"Unemployment\": 4.3, \"Fund_rate\": 1.04, \"Retail\": 423066}, {\"date\": \"2017-07\", \"SP500\": 2454.102502441406, \"CPI\": 244.786, \"Unemployment\": 4.3, \"Fund_rate\": 1.15, \"Retail\": 416906}, {\"date\": \"2017-08\", \"SP500\": 2456.2230702275815, \"CPI\": 245.519, \"Unemployment\": 4.4, \"Fund_rate\": 1.16, \"Retail\": 431804}, {\"date\": \"2017-09\", \"SP500\": 2492.8410400390626, \"CPI\": 246.819, \"Unemployment\": 4.3, \"Fund_rate\": 1.15, \"Retail\": 412546}, {\"date\": \"2017-10\", \"SP500\": 2556.9972700639205, \"CPI\": 246.663, \"Unemployment\": 4.2, \"Fund_rate\": 1.15, \"Retail\": 417773}, {\"date\": \"2017-11\", \"SP500\": 2593.605736142113, \"CPI\": 246.669, \"Unemployment\": 4.2, \"Fund_rate\": 1.16, \"Retail\": 441933}, {\"date\": \"2017-12\", \"SP500\": 2664.34052734375, \"CPI\": 246.524, \"Unemployment\": 4.1, \"Fund_rate\": 1.3, \"Retail\": 496765}, {\"date\": \"2018-01\", \"SP500\": 2789.8038155691966, \"CPI\": 247.867, \"Unemployment\": 4.0, \"Fund_rate\": 1.41, \"Retail\": 389740}, {\"date\": \"2018-02\", \"SP500\": 2705.1552477384867, \"CPI\": 248.991, \"Unemployment\": 4.1, \"Fund_rate\": 1.42, \"Retail\": 380598}, {\"date\": \"2018-03\", \"SP500\": 2702.7738211495534, \"CPI\": 249.554, \"Unemployment\": 4.0, \"Fund_rate\": 1.51, \"Retail\": 444925}, {\"date\": \"2018-04\", \"SP500\": 2653.6252092633927, \"CPI\": 250.546, \"Unemployment\": 4.0, \"Fund_rate\": 1.69, \"Retail\": 420209}, {\"date\": \"2018-05\", \"SP500\": 2701.4936190518465, \"CPI\": 251.588, \"Unemployment\": 3.8, \"Fund_rate\": 1.7, \"Retail\": 464271}, {\"date\": \"2018-06\", \"SP500\": 2754.3528878348216, \"CPI\": 251.989, \"Unemployment\": 4.0, \"Fund_rate\": 1.82, \"Retail\": 443732}, {\"date\": \"2018-07\", \"SP500\": 2793.643357049851, \"CPI\": 252.006, \"Unemployment\": 3.8, \"Fund_rate\": 1.91, \"Retail\": 441832}, {\"date\": \"2018-08\", \"SP500\": 2857.8204292629075, \"CPI\": 252.146, \"Unemployment\": 3.8, \"Fund_rate\": 1.91, \"Retail\": 456445}, {\"date\": \"2018-09\", \"SP500\": 2901.5005139802633, \"CPI\": 252.439, \"Unemployment\": 3.7, \"Fund_rate\": 1.95, \"Retail\": 417510}, {\"date\": \"2018-10\", \"SP500\": 2785.4647800611415, \"CPI\": 252.885, \"Unemployment\": 3.8, \"Fund_rate\": 2.19, \"Retail\": 442256}, {\"date\": \"2018-11\", \"SP500\": 2723.231422061012, \"CPI\": 252.038, \"Unemployment\": 3.8, \"Fund_rate\": 2.2, \"Retail\": 460034}, {\"date\": \"2018-12\", \"SP500\": 2567.3073858963817, \"CPI\": 251.233, \"Unemployment\": 3.9, \"Fund_rate\": 2.27, \"Retail\": 493873}, {\"date\": \"2019-01\", \"SP500\": 2607.3899972098216, \"CPI\": 251.712, \"Unemployment\": 4.0, \"Fund_rate\": 2.4, \"Retail\": 399359}, {\"date\": \"2019-02\", \"SP500\": 2754.8642064144738, \"CPI\": 252.776, \"Unemployment\": 3.8, \"Fund_rate\": 2.4, \"Retail\": 384977}, {\"date\": \"2019-03\", \"SP500\": 2803.9837937127977, \"CPI\": 254.202, \"Unemployment\": 3.8, \"Fund_rate\": 2.41, \"Retail\": 447160}, {\"date\": \"2019-04\", \"SP500\": 2903.799979073661, \"CPI\": 255.548, \"Unemployment\": 3.6, \"Fund_rate\": 2.42, \"Retail\": 442704}, {\"date\": \"2019-05\", \"SP500\": 2854.705910422585, \"CPI\": 256.092, \"Unemployment\": 3.7, \"Fund_rate\": 2.39, \"Retail\": 475656}, {\"date\": \"2019-06\", \"SP500\": 2890.165979003906, \"CPI\": 256.143, \"Unemployment\": 3.6, \"Fund_rate\": 2.38, \"Retail\": 448224}, {\"date\": \"2019-07\", \"SP500\": 2996.1136363636365, \"CPI\": 256.571, \"Unemployment\": 3.7, \"Fund_rate\": 2.4, \"Retail\": 461642}, {\"date\": \"2019-08\", \"SP500\": 2897.450450550426, \"CPI\": 256.558, \"Unemployment\": 3.7, \"Fund_rate\": 2.13, \"Retail\": 472891}, {\"date\": \"2019-09\", \"SP500\": 2982.156005859375, \"CPI\": 256.759, \"Unemployment\": 3.5, \"Fund_rate\": 2.04, \"Retail\": 428334}, {\"date\": \"2019-10\", \"SP500\": 2977.675197435462, \"CPI\": 257.346, \"Unemployment\": 3.6, \"Fund_rate\": 1.83, \"Retail\": 455035}, {\"date\": \"2019-11\", \"SP500\": 3104.9044921875, \"CPI\": 257.208, \"Unemployment\": 3.6, \"Fund_rate\": 1.55, \"Retail\": 467311}, {\"date\": \"2019-12\", \"SP500\": 3176.74951171875, \"CPI\": 256.974, \"Unemployment\": 3.6, \"Fund_rate\": 1.55, \"Retail\": 518979}, {\"date\": \"2020-01\", \"SP500\": 3278.202857607887, \"CPI\": 257.971, \"Unemployment\": 3.5, \"Fund_rate\": 1.55, \"Retail\": 416285}, {\"date\": \"2020-02\", \"SP500\": 3277.3141832853617, \"CPI\": 258.678, \"Unemployment\": 3.5, \"Fund_rate\": 1.58, \"Retail\": 413203}, {\"date\": \"2020-03\", \"SP500\": 2652.393632368608, \"CPI\": 258.115, \"Unemployment\": 4.4, \"Fund_rate\": 0.65, \"Retail\": 428285}, {\"date\": \"2020-04\", \"SP500\": 2761.9752255394346, \"CPI\": 256.389, \"Unemployment\": 14.7, \"Fund_rate\": 0.05, \"Retail\": 375242}, {\"date\": \"2020-05\", \"SP500\": 2919.6084838867187, \"CPI\": 256.394, \"Unemployment\": 13.2, \"Fund_rate\": 0.05, \"Retail\": 460253}, {\"date\": \"2020-06\", \"SP500\": 3104.6609330610795, \"CPI\": 257.797, \"Unemployment\": 11.0, \"Fund_rate\": 0.08, \"Retail\": 478667}, {\"date\": \"2020-07\", \"SP500\": 3207.6190962357955, \"CPI\": 259.101, \"Unemployment\": 10.2, \"Fund_rate\": 0.09, \"Retail\": 492259}, {\"date\": \"2020-08\", \"SP500\": 3391.7100190662204, \"CPI\": 259.918, \"Unemployment\": 8.4, \"Fund_rate\": 0.1, \"Retail\": 487134}, {\"date\": \"2020-09\", \"SP500\": 3365.516671316964, \"CPI\": 260.28, \"Unemployment\": 7.9, \"Fund_rate\": 0.09, \"Retail\": 474284}, {\"date\": \"2020-10\", \"SP500\": 3418.6999955610795, \"CPI\": 260.388, \"Unemployment\": 6.9, \"Fund_rate\": 0.09, \"Retail\": 494134}, {\"date\": \"2020-11\", \"SP500\": 3548.99248046875, \"CPI\": 260.229, \"Unemployment\": 6.7, \"Fund_rate\": 0.09, \"Retail\": 491813}, {\"date\": \"2020-12\", \"SP500\": 3695.3100142045455, \"CPI\": 260.474, \"Unemployment\": 6.7, \"Fund_rate\": 0.09, \"Retail\": 558834}, {\"date\": \"2021-01\", \"SP500\": 3793.7484323601975, \"CPI\": 261.582, \"Unemployment\": 6.3, \"Fund_rate\": 0.09, \"Retail\": 462558}, {\"date\": \"2021-02\", \"SP500\": 3883.4321160567433, \"CPI\": 263.014, \"Unemployment\": 6.2, \"Fund_rate\": 0.08, \"Retail\": 438933}, {\"date\": \"2021-03\", \"SP500\": 3910.5082795516305, \"CPI\": 264.877, \"Unemployment\": 6.1, \"Fund_rate\": 0.07, \"Retail\": 565764}, {\"date\": \"2021-04\", \"SP500\": 4141.176199776785, \"CPI\": 267.054, \"Unemployment\": 6.1, \"Fund_rate\": 0.07, \"Retail\": 557874}, {\"date\": \"2021-05\", \"SP500\": 4167.849536132812, \"CPI\": 269.195, \"Unemployment\": 5.8, \"Fund_rate\": 0.06, \"Retail\": 567461}, {\"date\": \"2021-06\", \"SP500\": 4238.48954634233, \"CPI\": 271.696, \"Unemployment\": 5.9, \"Fund_rate\": 0.08, \"Retail\": 560679}, {\"date\": \"2021-07\", \"SP500\": 4363.712797619048, \"CPI\": 273.003, \"Unemployment\": 5.4, \"Fund_rate\": 0.1, \"Retail\": 554845}, {\"date\": \"2021-08\", \"SP500\": 4453.965931285511, \"CPI\": 273.567, \"Unemployment\": 5.2, \"Fund_rate\": 0.09, \"Retail\": 553822}, {\"date\": \"2021-09\", \"SP500\": 4445.543317522322, \"CPI\": 274.31, \"Unemployment\": 4.8, \"Fund_rate\": 0.08, \"Retail\": 532840}, {\"date\": \"2021-10\", \"SP500\": 4460.707077752976, \"CPI\": 276.589, \"Unemployment\": 4.5, \"Fund_rate\": 0.08, \"Retail\": 557737}, {\"date\": \"2021-11\", \"SP500\": 4667.386648995535, \"CPI\": 277.948, \"Unemployment\": 4.2, \"Fund_rate\": 0.08, \"Retail\": 579687}, {\"date\": \"2021-12\", \"SP500\": 4674.772771661932, \"CPI\": 278.802, \"Unemployment\": 3.9, \"Fund_rate\": 0.08, \"Retail\": 632849}, {\"date\": \"2022-01\", \"SP500\": 4573.815454101563, \"CPI\": 281.148, \"Unemployment\": 4.0, \"Fund_rate\": 0.08, \"Retail\": 518146}, {\"date\": \"2022-02\", \"SP500\": 4435.980494449013, \"CPI\": 283.716, \"Unemployment\": 3.8, \"Fund_rate\": 0.08, \"Retail\": 506400}, {\"date\": \"2022-03\", \"SP500\": 4391.265264096467, \"CPI\": 287.504, \"Unemployment\": 3.6, \"Fund_rate\": 0.2, \"Retail\": 597077}, {\"date\": \"2022-04\", \"SP500\": 4391.29599609375, \"CPI\": 289.109, \"Unemployment\": 3.6, \"Fund_rate\": 0.33, \"Retail\": 594426}, {\"date\": \"2022-05\", \"SP500\": 4040.3600027901784, \"CPI\": 292.296, \"Unemployment\": 3.6, \"Fund_rate\": 0.77, \"Retail\": 614474}, {\"date\": \"2022-06\", \"SP500\": 3898.9466843377977, \"CPI\": 296.311, \"Unemployment\": 3.6, \"Fund_rate\": 1.21, \"Retail\": 609933}, {\"date\": \"2022-07\", \"SP500\": 3911.7294921875, \"CPI\": 296.276, \"Unemployment\": 3.5, \"Fund_rate\": 1.68, \"Retail\": 600746}, {\"date\": \"2022-08\", \"SP500\": 4158.563083814538, \"CPI\": 296.171, \"Unemployment\": 3.7, \"Fund_rate\": 2.33, \"Retail\": 613416}, {\"date\": \"2022-09\", \"SP500\": 3850.5204961867557, \"CPI\": 296.808, \"Unemployment\": 3.5, \"Fund_rate\": 2.56, \"Retail\": 577370}, {\"date\": \"2022-10\", \"SP500\": 3726.050955636161, \"CPI\": 298.012, \"Unemployment\": 3.7, \"Fund_rate\": 3.08, \"Retail\": 597349}, {\"date\": \"2022-11\", \"SP500\": 3917.488595145089, \"CPI\": 297.711, \"Unemployment\": 3.6, \"Fund_rate\": 3.78, \"Retail\": 610784}, {\"date\": \"2022-12\", \"SP500\": 3912.3809523809523, \"CPI\": 296.797, \"Unemployment\": 3.5, \"Fund_rate\": 4.1, \"Retail\": 660004}]}}, {\"mode\": \"vega-lite\"});\n",
       "</script>"
      ],
      "text/plain": [
       "alt.RepeatChart(...)"
      ]
     },
     "execution_count": 9,
     "metadata": {},
     "output_type": "execute_result"
    }
   ],
   "source": [
    "# Trend\n",
    "df_no_index = df.reset_index()\n",
    "df_no_index['date'] = df_no_index['date'].dt.to_timestamp().apply(lambda x: x.strftime('%Y-%m'))\n",
    "trend = alt.Chart(df_no_index, height=100, width=150).mark_line().encode(\n",
    "    alt.X('date:T'),\n",
    "    alt.Y(alt.repeat('repeat'), type = 'quantitative', scale=alt.Scale(zero=False))\n",
    ").repeat(\n",
    "    repeat = columns, columns = 3\n",
    ")\n",
    "trend"
   ]
  },
  {
   "cell_type": "code",
   "execution_count": 10,
   "id": "62d5cf62",
   "metadata": {},
   "outputs": [
    {
     "name": "stdout",
     "output_type": "stream",
     "text": [
      "Linear regression MSE:  65351.13758711268\n",
      "Decision tree MSE:  10752.140005426365\n",
      "Random forest MSE:  19459.67417714869\n",
      "Gradient boosting MSE:  18531.523040769964\n",
      "KNN MSE:  91071.6044683323\n",
      "--------------------------------------\n",
      "Linear regression MSE:  7981.537500452838\n",
      "Decision tree MSE:  43805.00031624727\n",
      "Random forest MSE:  45838.37134577085\n",
      "Gradient boosting MSE:  41165.75787111962\n",
      "KNN MSE:  157891.28769747636\n",
      "--------------------------------------\n",
      "Linear regression MSE:  18341.91123988137\n",
      "Decision tree MSE:  22486.726206129828\n",
      "Random forest MSE:  17361.106269286105\n",
      "Gradient boosting MSE:  20868.56921686421\n",
      "KNN MSE:  101252.02795966426\n",
      "--------------------------------------\n",
      "Linear regression MSE:  10500.006247173262\n",
      "Decision tree MSE:  12863.123228402745\n",
      "Random forest MSE:  9445.96215917184\n",
      "Gradient boosting MSE:  7308.361963653903\n",
      "KNN MSE:  72753.35243502665\n",
      "--------------------------------------\n",
      "Linear regression MSE:  7508.118914923469\n",
      "Decision tree MSE:  47918.74866272015\n",
      "Random forest MSE:  50894.11012865224\n",
      "Gradient boosting MSE:  43611.33111552556\n",
      "KNN MSE:  225992.58197339365\n",
      "--------------------------------------\n",
      "Linear regression MSE:  16961811.2798807\n",
      "Decision tree MSE:  757770.2998151798\n",
      "Random forest MSE:  380673.42598422634\n",
      "Gradient boosting MSE:  483537.6843926576\n",
      "KNN MSE:  269318.7054900113\n",
      "--------------------------------------\n",
      "Linear regression MSE:  1125407.4436389485\n",
      "Decision tree MSE:  112986.06021795988\n",
      "Random forest MSE:  233026.60408225722\n",
      "Gradient boosting MSE:  227512.94864419368\n",
      "KNN MSE:  673721.3721326172\n",
      "--------------------------------------\n",
      "Linear regression MSE:  1055758.2983001661\n",
      "Decision tree MSE:  225247.37943943375\n",
      "Random forest MSE:  261555.99013143306\n",
      "Gradient boosting MSE:  208386.52923542826\n",
      "KNN MSE:  921826.7242028273\n",
      "--------------------------------------\n",
      "Linear regression MSE:  424535.0304669056\n",
      "Decision tree MSE:  68112.3590023475\n",
      "Random forest MSE:  41080.296841124466\n",
      "Gradient boosting MSE:  37642.45109829668\n",
      "KNN MSE:  694732.846885743\n",
      "--------------------------------------\n",
      "Linear regression MSE:  33395.69420998422\n",
      "Decision tree MSE:  30974.391258271706\n",
      "Random forest MSE:  94864.74817843433\n",
      "Gradient boosting MSE:  39198.265795290004\n",
      "KNN MSE:  245160.67138770493\n",
      "--------------------------------------\n"
     ]
    }
   ],
   "source": [
    "### Data Preprocessing\n",
    "# Fit time series cross-validation models\n",
    "X = df.drop(columns='SP500')\n",
    "Y = df['SP500']\n",
    "tscv = TimeSeriesSplit(n_splits=10)\n",
    "for train_index, test_index in tscv.split(X):\n",
    "    X_train, X_test = X.iloc[train_index], X.iloc[test_index]\n",
    "    Y_train, Y_test = Y.iloc[train_index], Y.iloc[test_index]\n",
    "\n",
    "    # Linear regression\n",
    "    lm = sm.OLS(Y_train, X_train).fit()\n",
    "    lm_mse = mean_squared_error(Y_test, lm.predict(X_test))\n",
    "    print('Linear regression MSE: ', lm_mse)\n",
    "\n",
    "    # Decision tree\n",
    "    Tree = DecisionTreeRegressor().fit(X_train, Y_train)\n",
    "    Tree_mse = mean_squared_error(Y_test, Tree.predict(X_test))\n",
    "    print('Decision tree MSE: ', Tree_mse)\n",
    "\n",
    "    # Random forest\n",
    "    RF = RandomForestRegressor().fit(X_train, Y_train)\n",
    "    RF_mse = mean_squared_error(Y_test, RF.predict(X_test))\n",
    "    print('Random forest MSE: ', RF_mse)\n",
    "\n",
    "    # Gradient boosting\n",
    "    GB = GradientBoostingRegressor().fit(X_train, Y_train)\n",
    "    GB_mse = mean_squared_error(Y_test, GB.predict(X_test))\n",
    "    print('Gradient boosting MSE: ', GB_mse)\n",
    "\n",
    "    # KNN\n",
    "    KNN = KNeighborsRegressor().fit(X_train, Y_train)\n",
    "    KNN_mse = mean_squared_error(Y_test, KNN.predict(X_test))\n",
    "    print('KNN MSE: ', KNN_mse)\n",
    "    \n",
    "    print('--------------------------------------')"
   ]
  },
  {
   "cell_type": "code",
   "execution_count": 11,
   "id": "0c285493",
   "metadata": {},
   "outputs": [
    {
     "data": {
      "image/png": "[encoded data removed]",
      "text/plain": [
       "<Figure size 432x288 with 1 Axes>"
      ]
     },
     "metadata": {
      "needs_background": "light"
     },
     "output_type": "display_data"
    }
   ],
   "source": [
    "# Make a scatter plot of the actual vs predicted values\n",
    "plt.scatter(Y_test, lm.predict(X_test))\n",
    "plt.title('Linear regression')\n",
    "plt.xlabel('Actual')\n",
    "plt.ylabel('Predicted')\n",
    "plt.show()"
   ]
  },
  {
   "cell_type": "code",
   "execution_count": 12,
   "id": "2464fae1",
   "metadata": {},
   "outputs": [
    {
     "data": {
      "image/png": "[encoded data removed]",
      "text/plain": [
       "<Figure size 432x288 with 1 Axes>"
      ]
     },
     "metadata": {
      "needs_background": "light"
     },
     "output_type": "display_data"
    }
   ],
   "source": [
    "plt.scatter(Y_test, Tree.predict(X_test))\n",
    "plt.title('Decision tree')\n",
    "plt.xlabel('Actual')\n",
    "plt.ylabel('Predicted')\n",
    "plt.show()"
   ]
  },
  {
   "cell_type": "code",
   "execution_count": 13,
   "id": "d41780ae",
   "metadata": {},
   "outputs": [
    {
     "data": {
      "image/png": "[encoded data removed]",
      "text/plain": [
       "<Figure size 432x288 with 1 Axes>"
      ]
     },
     "metadata": {
      "needs_background": "light"
     },
     "output_type": "display_data"
    }
   ],
   "source": [
    "plt.scatter(Y_test, RF.predict(X_test))\n",
    "plt.title('Random forest')\n",
    "plt.xlabel('Actual')\n",
    "plt.ylabel('Predicted')\n",
    "plt.show()"
   ]
  },
  {
   "cell_type": "code",
   "execution_count": 14,
   "id": "89ceb821",
   "metadata": {},
   "outputs": [
    {
     "data": {
      "image/png": "[encoded data removed]",
      "text/plain": [
       "<Figure size 432x288 with 1 Axes>"
      ]
     },
     "metadata": {
      "needs_background": "light"
     },
     "output_type": "display_data"
    }
   ],
   "source": [
    "plt.scatter(Y_test, GB.predict(X_test))\n",
    "plt.title('Gradient boosting')\n",
    "plt.xlabel('Actual')\n",
    "plt.ylabel('Predicted')\n",
    "plt.show()"
   ]
  },
  {
   "cell_type": "code",
   "execution_count": 15,
   "id": "4f43b42a",
   "metadata": {},
   "outputs": [
    {
     "data": {
      "image/png": "[encoded data removed]",
      "text/plain": [
       "<Figure size 432x288 with 1 Axes>"
      ]
     },
     "metadata": {
      "needs_background": "light"
     },
     "output_type": "display_data"
    }
   ],
   "source": [
    "plt.scatter(Y_test, KNN.predict(X_test))\n",
    "plt.title('KNN')\n",
    "plt.xlabel('Actual')\n",
    "plt.ylabel('Predicted')\n",
    "plt.show()"
   ]
  },
  {
   "cell_type": "code",
   "execution_count": 16,
   "id": "3ef393ad",
   "metadata": {},
   "outputs": [
    {
     "name": "stdout",
     "output_type": "stream",
     "text": [
      "                               SARIMAX Results                                \n",
      "==============================================================================\n",
      "Dep. Variable:                  SP500   No. Observations:                   72\n",
      "Model:                 ARIMA(1, 1, 1)   Log Likelihood                -436.062\n",
      "Date:                Thu, 26 Jan 2023   AIC                            878.125\n",
      "Time:                        12:17:14   BIC                            884.913\n",
      "Sample:                    01-31-2016   HQIC                           880.824\n",
      "                         - 12-31-2021                                         \n",
      "Covariance Type:                  opg                                         \n",
      "==============================================================================\n",
      "                 coef    std err          z      P>|z|      [0.025      0.975]\n",
      "------------------------------------------------------------------------------\n",
      "ar.L1          0.2563      0.700      0.366      0.714      -1.116       1.628\n",
      "ma.L1         -0.1022      0.697     -0.147      0.883      -1.468       1.264\n",
      "sigma2      1.265e+04    960.168     13.171      0.000    1.08e+04    1.45e+04\n",
      "===================================================================================\n",
      "Ljung-Box (L1) (Q):                   0.59   Jarque-Bera (JB):              1010.18\n",
      "Prob(Q):                              0.44   Prob(JB):                         0.00\n",
      "Heteroskedasticity (H):              12.04   Skew:                            -3.09\n",
      "Prob(H) (two-sided):                  0.00   Kurtosis:                        20.42\n",
      "===================================================================================\n",
      "\n",
      "Warnings:\n",
      "[1] Covariance matrix calculated using the outer product of gradients (complex-step).\n"
     ]
    },
    {
     "data": {
      "image/png": "[encoded data removed]",
      "text/plain": [
       "<Figure size 432x288 with 1 Axes>"
      ]
     },
     "metadata": {
      "needs_background": "light"
     },
     "output_type": "display_data"
    }
   ],
   "source": [
    "#### Fit an ARIMA (AutoRegressive Integrated Moving Average) model\n",
    "# Split the data into training and testing sets\n",
    "SP500_train = SP500[:'2021-12']\n",
    "SP500_test = SP500['2022-01':]\n",
    "# fit ARIMA model, specifying the order of the model\n",
    "ARIMA_model = ARIMA(SP500_train, order=(1, 1, 1))\n",
    "ARIMA_model_fit = ARIMA_model.fit()\n",
    "print(ARIMA_model_fit.summary())\n",
    "\n",
    "# make predictions\n",
    "arima_predict = ARIMA_model_fit.predict(start=len(SP500_train), end=len(SP500_train)+11, typ='levels')\n",
    "arima_mse = mean_squared_error(SP500_test, arima_predict)\n",
    "\n",
    "# Make a scatter plot of the actual vs predicted values\n",
    "plt.scatter(SP500_test, arima_predict)\n",
    "plt.title('ARIMA')\n",
    "plt.xlabel('Actual')\n",
    "plt.ylabel('Predicted')\n",
    "plt.show()"
   ]
  },
  {
   "cell_type": "code",
   "execution_count": 17,
   "id": "905c7738",
   "metadata": {},
   "outputs": [
    {
     "name": "stdout",
     "output_type": "stream",
     "text": [
      "Performing stepwise search to minimize aic\n"
     ]
    },
    {
     "name": "stderr",
     "output_type": "stream",
     "text": [
      "/Users/amethyst/opt/anaconda3/lib/python3.9/site-packages/statsmodels/tsa/statespace/sarimax.py:1899: RuntimeWarning: invalid value encountered in reciprocal\n",
      "  return np.roots(self.polynomial_reduced_ar)**-1\n"
     ]
    },
    {
     "name": "stdout",
     "output_type": "stream",
     "text": [
      " ARIMA(1,1,1)(0,1,1)[12]             : AIC=inf, Time=0.24 sec\n",
      " ARIMA(0,1,0)(0,1,0)[12]             : AIC=769.823, Time=0.02 sec\n",
      " ARIMA(1,1,0)(1,1,0)[12]             : AIC=747.503, Time=0.10 sec\n",
      " ARIMA(0,1,1)(0,1,1)[12]             : AIC=747.237, Time=0.14 sec\n",
      " ARIMA(0,1,1)(0,1,0)[12]             : AIC=769.036, Time=0.05 sec\n"
     ]
    },
    {
     "name": "stderr",
     "output_type": "stream",
     "text": [
      "/Users/amethyst/opt/anaconda3/lib/python3.9/site-packages/statsmodels/tsa/statespace/sarimax.py:1906: RuntimeWarning: invalid value encountered in reciprocal\n",
      "  return np.roots(self.polynomial_reduced_ma)**-1\n"
     ]
    },
    {
     "name": "stdout",
     "output_type": "stream",
     "text": [
      " ARIMA(0,1,1)(1,1,1)[12]             : AIC=747.400, Time=0.37 sec\n",
      " ARIMA(0,1,1)(0,1,2)[12]             : AIC=747.430, Time=0.75 sec\n",
      " ARIMA(0,1,1)(1,1,0)[12]             : AIC=747.498, Time=0.17 sec\n"
     ]
    },
    {
     "name": "stderr",
     "output_type": "stream",
     "text": [
      "/Users/amethyst/opt/anaconda3/lib/python3.9/site-packages/statsmodels/tsa/statespace/sarimax.py:1906: RuntimeWarning: invalid value encountered in reciprocal\n",
      "  return np.roots(self.polynomial_reduced_ma)**-1\n"
     ]
    },
    {
     "name": "stdout",
     "output_type": "stream",
     "text": [
      " ARIMA(0,1,1)(1,1,2)[12]             : AIC=749.311, Time=2.35 sec\n",
      " ARIMA(0,1,0)(0,1,1)[12]             : AIC=745.740, Time=0.12 sec\n",
      " ARIMA(0,1,0)(1,1,1)[12]             : AIC=745.585, Time=0.22 sec\n",
      " ARIMA(0,1,0)(1,1,0)[12]             : AIC=745.699, Time=0.08 sec\n",
      " ARIMA(0,1,0)(2,1,1)[12]             : AIC=747.158, Time=0.88 sec\n",
      " ARIMA(0,1,0)(1,1,2)[12]             : AIC=747.496, Time=0.88 sec\n",
      " ARIMA(0,1,0)(0,1,2)[12]             : AIC=745.665, Time=0.37 sec\n",
      " ARIMA(0,1,0)(2,1,0)[12]             : AIC=745.315, Time=0.18 sec\n",
      " ARIMA(1,1,0)(2,1,0)[12]             : AIC=747.139, Time=0.44 sec\n"
     ]
    },
    {
     "name": "stderr",
     "output_type": "stream",
     "text": [
      "/Users/amethyst/opt/anaconda3/lib/python3.9/site-packages/statsmodels/tsa/statespace/sarimax.py:1906: RuntimeWarning: invalid value encountered in reciprocal\n",
      "  return np.roots(self.polynomial_reduced_ma)**-1\n"
     ]
    },
    {
     "name": "stdout",
     "output_type": "stream",
     "text": [
      " ARIMA(0,1,1)(2,1,0)[12]             : AIC=747.132, Time=0.32 sec\n"
     ]
    },
    {
     "name": "stderr",
     "output_type": "stream",
     "text": [
      "/Users/amethyst/opt/anaconda3/lib/python3.9/site-packages/statsmodels/tsa/statespace/sarimax.py:1906: RuntimeWarning: invalid value encountered in reciprocal\n",
      "  return np.roots(self.polynomial_reduced_ma)**-1\n"
     ]
    },
    {
     "name": "stdout",
     "output_type": "stream",
     "text": [
      " ARIMA(1,1,1)(2,1,0)[12]             : AIC=inf, Time=0.71 sec\n",
      " ARIMA(0,1,0)(2,1,0)[12] intercept   : AIC=746.256, Time=0.47 sec\n",
      "\n",
      "Best model:  ARIMA(0,1,0)(2,1,0)[12]          \n",
      "Total fit time: 8.886 seconds\n",
      "                                     SARIMAX Results                                      \n",
      "==========================================================================================\n",
      "Dep. Variable:                                  y   No. Observations:                   72\n",
      "Model:             SARIMAX(0, 1, 0)x(2, 1, 0, 12)   Log Likelihood                -369.658\n",
      "Date:                            Thu, 26 Jan 2023   AIC                            745.315\n",
      "Time:                                    12:17:23   BIC                            751.548\n",
      "Sample:                                01-31-2016   HQIC                           747.748\n",
      "                                     - 12-31-2021                                         \n",
      "Covariance Type:                              opg                                         \n",
      "==============================================================================\n",
      "                 coef    std err          z      P>|z|      [0.025      0.975]\n",
      "------------------------------------------------------------------------------\n",
      "ar.S.L12      -0.7603      0.130     -5.847      0.000      -1.015      -0.505\n",
      "ar.S.L24      -0.2395      0.246     -0.972      0.331      -0.722       0.243\n",
      "sigma2      1.446e+04   1083.293     13.352      0.000    1.23e+04    1.66e+04\n",
      "===================================================================================\n",
      "Ljung-Box (L1) (Q):                   0.14   Jarque-Bera (JB):               510.15\n",
      "Prob(Q):                              0.71   Prob(JB):                         0.00\n",
      "Heteroskedasticity (H):               4.54   Skew:                            -2.78\n",
      "Prob(H) (two-sided):                  0.00   Kurtosis:                        16.29\n",
      "===================================================================================\n",
      "\n",
      "Warnings:\n",
      "[1] Covariance matrix calculated using the outer product of gradients (complex-step).\n"
     ]
    },
    {
     "data": {
      "text/plain": [
       "875067.6208438171"
      ]
     },
     "execution_count": 17,
     "metadata": {},
     "output_type": "execute_result"
    }
   ],
   "source": [
    "# fit Auto ARIMA model, order is automatically selected\n",
    "auto_arima_model = auto_arima(SP500_train, start_p=1, start_q=1,\n",
    "                            max_p=3, max_q=3, m=12,\n",
    "                            start_P=0, seasonal=True,\n",
    "                            d=1, D=1, trace=True,\n",
    "                            error_action='ignore',\n",
    "                            suppress_warnings=True,\n",
    "                            stepwise=True)\n",
    "# Print model summary\n",
    "print(auto_arima_model.summary())\n",
    "\n",
    "# Make predictions on the test set\n",
    "auto_arima_predict = auto_arima_model.predict(n_periods=len(SP500_test))\n",
    "auto_arima_mse = mean_squared_error(SP500_test, auto_arima_predict)\n",
    "auto_arima_mse"
   ]
  },
  {
   "cell_type": "code",
   "execution_count": 18,
   "id": "d9844ed8",
   "metadata": {},
   "outputs": [
    {
     "data": {
      "image/png": "[encoded data removed]",
      "text/plain": [
       "<Figure size 432x288 with 1 Axes>"
      ]
     },
     "metadata": {
      "needs_background": "light"
     },
     "output_type": "display_data"
    }
   ],
   "source": [
    "# Make a scatter plot of the actual vs predicted values\n",
    "plt.scatter(SP500_test, auto_arima_predict)\n",
    "plt.title('Auto ARIMA')\n",
    "plt.xlabel('Actual')\n",
    "plt.ylabel('Predicted')\n",
    "plt.show()"
   ]
  },
  {
   "cell_type": "code",
   "execution_count": 19,
   "id": "74c77d3b",
   "metadata": {},
   "outputs": [
    {
     "data": {
      "text/html": [
       "<div>\n",
       "<style scoped>\n",
       "    .dataframe tbody tr th:only-of-type {\n",
       "        vertical-align: middle;\n",
       "    }\n",
       "\n",
       "    .dataframe tbody tr th {\n",
       "        vertical-align: top;\n",
       "    }\n",
       "\n",
       "    .dataframe thead th {\n",
       "        text-align: right;\n",
       "    }\n",
       "</style>\n",
       "<table border=\"1\" class=\"dataframe\">\n",
       "  <thead>\n",
       "    <tr style=\"text-align: right;\">\n",
       "      <th></th>\n",
       "      <th>MSE</th>\n",
       "    </tr>\n",
       "  </thead>\n",
       "  <tbody>\n",
       "    <tr>\n",
       "      <th>Linear Regression</th>\n",
       "      <td>33395.694210</td>\n",
       "    </tr>\n",
       "    <tr>\n",
       "      <th>Decision Tree</th>\n",
       "      <td>30974.391258</td>\n",
       "    </tr>\n",
       "    <tr>\n",
       "      <th>Random Forest</th>\n",
       "      <td>94864.748178</td>\n",
       "    </tr>\n",
       "    <tr>\n",
       "      <th>Gradient Boosting</th>\n",
       "      <td>39198.265795</td>\n",
       "    </tr>\n",
       "    <tr>\n",
       "      <th>KNN</th>\n",
       "      <td>245160.671388</td>\n",
       "    </tr>\n",
       "    <tr>\n",
       "      <th>ARIMA</th>\n",
       "      <td>408075.669961</td>\n",
       "    </tr>\n",
       "    <tr>\n",
       "      <th>Auto ARIMA</th>\n",
       "      <td>875067.620844</td>\n",
       "    </tr>\n",
       "  </tbody>\n",
       "</table>\n",
       "</div>"
      ],
      "text/plain": [
       "                             MSE\n",
       "Linear Regression   33395.694210\n",
       "Decision Tree       30974.391258\n",
       "Random Forest       94864.748178\n",
       "Gradient Boosting   39198.265795\n",
       "KNN                245160.671388\n",
       "ARIMA              408075.669961\n",
       "Auto ARIMA         875067.620844"
      ]
     },
     "execution_count": 19,
     "metadata": {},
     "output_type": "execute_result"
    }
   ],
   "source": [
    "# Make a table of MSE adding ARIMA and Auto ARIMA models\n",
    "MSE = pd.DataFrame({'MSE': [lm_mse, Tree_mse, RF_mse, GB_mse, KNN_mse, arima_mse, auto_arima_mse]},\n",
    "                        index=['Linear Regression', 'Decision Tree', 'Random Forest',\n",
    "                                 'Gradient Boosting', 'KNN', 'ARIMA', 'Auto ARIMA'])\n",
    "MSE"
   ]
  },
  {
   "cell_type": "code",
   "execution_count": 20,
   "id": "220bdd6a",
   "metadata": {},
   "outputs": [
    {
     "data": {
      "image/png": "[encoded data removed]",
      "text/plain": [
       "<Figure size 432x288 with 1 Axes>"
      ]
     },
     "metadata": {
      "needs_background": "light"
     },
     "output_type": "display_data"
    }
   ],
   "source": [
    "# Make a MSE plot\n",
    "MSE.plot(kind='bar')\n",
    "plt.title('MSE of different models')\n",
    "plt.show()"
   ]
  },
  {
   "cell_type": "code",
   "execution_count": 21,
   "id": "b5a9f8fe",
   "metadata": {},
   "outputs": [
    {
     "data": {
      "image/png": "[encoded data removed]",
      "text/plain": [
       "<Figure size 432x288 with 1 Axes>"
      ]
     },
     "metadata": {
      "needs_background": "light"
     },
     "output_type": "display_data"
    }
   ],
   "source": [
    "# Make a relative MSE plot\n",
    "MSE['Relative MSE'] = MSE['MSE'] / MSE['MSE'].min()\n",
    "MSE.plot(kind='bar', y='Relative MSE')\n",
    "plt.title('Relative MSE of different models')\n",
    "plt.show()"
   ]
  },
  {
   "cell_type": "code",
   "execution_count": null,
   "id": "9fc8b441",
   "metadata": {},
   "outputs": [],
   "source": []
  }
 ],
 "metadata": {
  "kernelspec": {
   "display_name": "Python 3 (ipykernel)",
   "language": "python",
   "name": "python3"
  },
  "language_info": {
   "codemirror_mode": {
    "name": "ipython",
    "version": 3
   },
   "file_extension": ".py",
   "mimetype": "text/x-python",
   "name": "python",
   "nbconvert_exporter": "python",
   "pygments_lexer": "ipython3",
   "version": "3.9.12"
  }
 },
 "nbformat": 4,
 "nbformat_minor": 5
}
